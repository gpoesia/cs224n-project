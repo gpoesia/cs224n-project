{
 "cells": [
  {
   "cell_type": "code",
   "execution_count": 6,
   "metadata": {},
   "outputs": [
    {
     "name": "stdout",
     "output_type": "stream",
     "text": [
      "import java.util.ArrayList;\n",
      "0.022734266253486138\n",
      "0.015377753417251219\n",
      "0.010133655083470285\n",
      "0.007081573253930256\n",
      "0.005093824130054796\n"
     ]
    }
   ],
   "source": [
    "import json\n",
    "import math\n",
    "import itertools\n",
    "\n",
    "with open('dataset/medium.json','r') as f:\n",
    "    j = json.loads(f.read())\n",
    "\n",
    "#print(j['Java']['train'][0])\n",
    "\n",
    "def breakIntoSequences(line,length):\n",
    "    s = list(filter(lambda c: ord(c)<2**7, line))\n",
    "    return [tuple(s[i:i+length]) for i in range(0, len(s)-length)]\n",
    "\n",
    "def lineToEntropy(line, length):\n",
    "    sequences = breakIntoSequences(line, length)\n",
    "    unique_prefixes = set(map(lambda x:x[:-1], sequences))\n",
    "    prev_next_dict = {prefix:[] for prefix in unique_prefixes}\n",
    "    for sequence in sequences:\n",
    "        prev_next_dict[tuple(sequence[:-1])].append(sequence[-1])\n",
    "    entropy = 0\n",
    "    for prev in prev_next_dict:\n",
    "        prob_prev = len(prev_next_dict[prev])/len(sequences)\n",
    "        for unique_next in set(prev_next_dict[prev]):\n",
    "            prob_given_prev = prev_next_dict[prev].count(unique_next)/ len(prev_next_dict[prev])\n",
    "            prob = prob_given_prev * prob_prev\n",
    "            entropy -= prob_prev*prob_given_prev*math.log2(prob_given_prev) #prob*math.log2(prob)\n",
    "    return entropy\n",
    "\n",
    "def average(lst): return sum(lst)/len(lst)\n",
    "\n",
    "def naiveEntropy(lang):\n",
    "    lines = j[lang]['train']\n",
    "    def getLineNaiveEntropy(line):\n",
    "        probs = [line.count(x)/float(len(line)) for x in set(''.join(line))]\n",
    "        return -sum(map(lambda p: p*math.log2(p), probs))\n",
    "    return average(list(map(getLineNaiveEntropy, lines)))\n",
    "\n",
    "def calcEntropyGivenLength(lang, length):\n",
    "    lines = j[lang]['train']\n",
    "    return average(list(map(lambda line: lineToEntropy(line, length), lines)))\n",
    "\n"
   ]
  },
  {
   "cell_type": "code",
   "execution_count": null,
   "metadata": {},
   "outputs": [],
   "source": [
    "#print(naiveEntropy('Java'))\n",
    "#print(calcEntropyGivenLength('Java',1))\n",
    "\n",
    "#getLineNaiveEntropy((''.join(j['Java']['train']))[:100])\n",
    "\n",
    "#print(list(map(lambda n: calcEntropyGivenLength('Python',n), range(1,5))))\n",
    "#[3.706962778894826, 0.7724645205142203, 0.10236192891270411, 0.03426463399819952]\n",
    "\n",
    "for i in range(5,10):\n",
    "    print(calcEntropyGivenLength('Python',i))\n",
    "    \n",
    "#[3.675195333821533, 0.7988870412408351, 0.10757292736873808, 0.04639521774967454]\n",
    "#>>> list(map(lambda n: calcEntropyGivenLength('Java',n), range(1,5)))\n",
    "#[3.885628680955303, 0.8516079495611222, 0.10855849802518813, 0.04063378757033601]\n",
    "\n",
    "#for n in range(1,10): print(n, lineToEntropy('\\n'.join(j['Python']['train']),n))\n",
    "#for n in range(1,10): print(n, lineToEntropy('\\n'.join(j['Haskell']['train']),n))\n",
    "#for n in range(1,10): print(n, lineToEntropy('\\n'.join(j['Java']['train']),n))"
   ]
  },
  {
   "cell_type": "code",
   "execution_count": 14,
   "metadata": {},
   "outputs": [
    {
     "name": "stdout",
     "output_type": "stream",
     "text": [
      "5.300543234887419\n",
      "4.295117416464809\n",
      "3.275152418229515\n",
      "2.300660726547498\n",
      "1.6341890981643588\n",
      "1.1834380398336473\n",
      "0.8595765248699189\n",
      "0.6286099621852493\n",
      "0.4586662191978046\n"
     ]
    }
   ],
   "source": [
    "python_string = '\\n'.join(j['Python']['train'])\n",
    "#print(len(python_string))\n",
    "for i in range(1,10):\n",
    "    print(lineToEntropy(python_string,i))"
   ]
  },
  {
   "cell_type": "code",
   "execution_count": 15,
   "metadata": {},
   "outputs": [
    {
     "name": "stdout",
     "output_type": "stream",
     "text": [
      "0.3289708148128313\n",
      "0.23045388354569113\n",
      "0.1634059580479786\n",
      "0.12109785701933179\n",
      "0.09420428071924702\n",
      "0.07521004007257612\n",
      "0.061227817827678555\n",
      "0.05067133442234382\n",
      "0.04283034562506127\n",
      "0.036716148505550494\n"
     ]
    }
   ],
   "source": [
    "for i in range(10,20):\n",
    "    print(lineToEntropy(python_string,i))"
   ]
  },
  {
   "cell_type": "code",
   "execution_count": 16,
   "metadata": {},
   "outputs": [
    {
     "name": "stdout",
     "output_type": "stream",
     "text": [
      "0.03167839026536093\n",
      "0.02731318062592599\n",
      "0.023781524218599352\n",
      "0.02065204055991471\n",
      "0.018020127566423273\n",
      "0.016146742565334896\n",
      "0.014452718810447157\n",
      "0.012922102601628618\n",
      "0.011667186884500717\n",
      "0.010726807164381298\n"
     ]
    }
   ],
   "source": [
    "for i in range(20,30):\n",
    "    print(lineToEntropy(python_string,i))"
   ]
  },
  {
   "cell_type": "code",
   "execution_count": 18,
   "metadata": {},
   "outputs": [
    {
     "name": "stdout",
     "output_type": "stream",
     "text": [
      "0.009737252788867426\n",
      "0.00870581424025821\n",
      "0.007881294233599281\n",
      "0.007154440532501492\n"
     ]
    },
    {
     "ename": "KeyboardInterrupt",
     "evalue": "",
     "output_type": "error",
     "traceback": [
      "\u001b[0;31m----------------------------------------------------------\u001b[0m",
      "\u001b[0;31mKeyboardInterrupt\u001b[0m        Traceback (most recent call last)",
      "\u001b[0;32m<ipython-input-18-d83cbdad1ee9>\u001b[0m in \u001b[0;36m<module>\u001b[0;34m()\u001b[0m\n\u001b[1;32m      1\u001b[0m \u001b[0;32mfor\u001b[0m \u001b[0mi\u001b[0m \u001b[0;32min\u001b[0m \u001b[0mrange\u001b[0m\u001b[0;34m(\u001b[0m\u001b[0;36m30\u001b[0m\u001b[0;34m,\u001b[0m\u001b[0;36m40\u001b[0m\u001b[0;34m)\u001b[0m\u001b[0;34m:\u001b[0m\u001b[0;34m\u001b[0m\u001b[0m\n\u001b[0;32m----> 2\u001b[0;31m     \u001b[0mprint\u001b[0m\u001b[0;34m(\u001b[0m\u001b[0mlineToEntropy\u001b[0m\u001b[0;34m(\u001b[0m\u001b[0mpython_string\u001b[0m\u001b[0;34m,\u001b[0m\u001b[0mi\u001b[0m\u001b[0;34m)\u001b[0m\u001b[0;34m)\u001b[0m\u001b[0;34m\u001b[0m\u001b[0m\n\u001b[0m",
      "\u001b[0;32m<ipython-input-6-8ff957030389>\u001b[0m in \u001b[0;36mlineToEntropy\u001b[0;34m(line, length)\u001b[0m\n\u001b[1;32m     16\u001b[0m     \u001b[0msequences\u001b[0m \u001b[0;34m=\u001b[0m \u001b[0mbreakIntoSequences\u001b[0m\u001b[0;34m(\u001b[0m\u001b[0mline\u001b[0m\u001b[0;34m,\u001b[0m \u001b[0mlength\u001b[0m\u001b[0;34m)\u001b[0m\u001b[0;34m\u001b[0m\u001b[0m\n\u001b[1;32m     17\u001b[0m     \u001b[0munique_prefixes\u001b[0m \u001b[0;34m=\u001b[0m \u001b[0mset\u001b[0m\u001b[0;34m(\u001b[0m\u001b[0mmap\u001b[0m\u001b[0;34m(\u001b[0m\u001b[0;32mlambda\u001b[0m \u001b[0mx\u001b[0m\u001b[0;34m:\u001b[0m\u001b[0mx\u001b[0m\u001b[0;34m[\u001b[0m\u001b[0;34m:\u001b[0m\u001b[0;34m-\u001b[0m\u001b[0;36m1\u001b[0m\u001b[0;34m]\u001b[0m\u001b[0;34m,\u001b[0m \u001b[0msequences\u001b[0m\u001b[0;34m)\u001b[0m\u001b[0;34m)\u001b[0m\u001b[0;34m\u001b[0m\u001b[0m\n\u001b[0;32m---> 18\u001b[0;31m     \u001b[0mprev_next_dict\u001b[0m \u001b[0;34m=\u001b[0m \u001b[0;34m{\u001b[0m\u001b[0mprefix\u001b[0m\u001b[0;34m:\u001b[0m\u001b[0;34m[\u001b[0m\u001b[0;34m]\u001b[0m \u001b[0;32mfor\u001b[0m \u001b[0mprefix\u001b[0m \u001b[0;32min\u001b[0m \u001b[0munique_prefixes\u001b[0m\u001b[0;34m}\u001b[0m\u001b[0;34m\u001b[0m\u001b[0m\n\u001b[0m\u001b[1;32m     19\u001b[0m     \u001b[0;32mfor\u001b[0m \u001b[0msequence\u001b[0m \u001b[0;32min\u001b[0m \u001b[0msequences\u001b[0m\u001b[0;34m:\u001b[0m\u001b[0;34m\u001b[0m\u001b[0m\n\u001b[1;32m     20\u001b[0m         \u001b[0mprev_next_dict\u001b[0m\u001b[0;34m[\u001b[0m\u001b[0mtuple\u001b[0m\u001b[0;34m(\u001b[0m\u001b[0msequence\u001b[0m\u001b[0;34m[\u001b[0m\u001b[0;34m:\u001b[0m\u001b[0;34m-\u001b[0m\u001b[0;36m1\u001b[0m\u001b[0;34m]\u001b[0m\u001b[0;34m)\u001b[0m\u001b[0;34m]\u001b[0m\u001b[0;34m.\u001b[0m\u001b[0mappend\u001b[0m\u001b[0;34m(\u001b[0m\u001b[0msequence\u001b[0m\u001b[0;34m[\u001b[0m\u001b[0;34m-\u001b[0m\u001b[0;36m1\u001b[0m\u001b[0;34m]\u001b[0m\u001b[0;34m)\u001b[0m\u001b[0;34m\u001b[0m\u001b[0m\n",
      "\u001b[0;32m<ipython-input-6-8ff957030389>\u001b[0m in \u001b[0;36m<dictcomp>\u001b[0;34m(.0)\u001b[0m\n\u001b[1;32m     16\u001b[0m     \u001b[0msequences\u001b[0m \u001b[0;34m=\u001b[0m \u001b[0mbreakIntoSequences\u001b[0m\u001b[0;34m(\u001b[0m\u001b[0mline\u001b[0m\u001b[0;34m,\u001b[0m \u001b[0mlength\u001b[0m\u001b[0;34m)\u001b[0m\u001b[0;34m\u001b[0m\u001b[0m\n\u001b[1;32m     17\u001b[0m     \u001b[0munique_prefixes\u001b[0m \u001b[0;34m=\u001b[0m \u001b[0mset\u001b[0m\u001b[0;34m(\u001b[0m\u001b[0mmap\u001b[0m\u001b[0;34m(\u001b[0m\u001b[0;32mlambda\u001b[0m \u001b[0mx\u001b[0m\u001b[0;34m:\u001b[0m\u001b[0mx\u001b[0m\u001b[0;34m[\u001b[0m\u001b[0;34m:\u001b[0m\u001b[0;34m-\u001b[0m\u001b[0;36m1\u001b[0m\u001b[0;34m]\u001b[0m\u001b[0;34m,\u001b[0m \u001b[0msequences\u001b[0m\u001b[0;34m)\u001b[0m\u001b[0;34m)\u001b[0m\u001b[0;34m\u001b[0m\u001b[0m\n\u001b[0;32m---> 18\u001b[0;31m     \u001b[0mprev_next_dict\u001b[0m \u001b[0;34m=\u001b[0m \u001b[0;34m{\u001b[0m\u001b[0mprefix\u001b[0m\u001b[0;34m:\u001b[0m\u001b[0;34m[\u001b[0m\u001b[0;34m]\u001b[0m \u001b[0;32mfor\u001b[0m \u001b[0mprefix\u001b[0m \u001b[0;32min\u001b[0m \u001b[0munique_prefixes\u001b[0m\u001b[0;34m}\u001b[0m\u001b[0;34m\u001b[0m\u001b[0m\n\u001b[0m\u001b[1;32m     19\u001b[0m     \u001b[0;32mfor\u001b[0m \u001b[0msequence\u001b[0m \u001b[0;32min\u001b[0m \u001b[0msequences\u001b[0m\u001b[0;34m:\u001b[0m\u001b[0;34m\u001b[0m\u001b[0m\n\u001b[1;32m     20\u001b[0m         \u001b[0mprev_next_dict\u001b[0m\u001b[0;34m[\u001b[0m\u001b[0mtuple\u001b[0m\u001b[0;34m(\u001b[0m\u001b[0msequence\u001b[0m\u001b[0;34m[\u001b[0m\u001b[0;34m:\u001b[0m\u001b[0;34m-\u001b[0m\u001b[0;36m1\u001b[0m\u001b[0;34m]\u001b[0m\u001b[0;34m)\u001b[0m\u001b[0;34m]\u001b[0m\u001b[0;34m.\u001b[0m\u001b[0mappend\u001b[0m\u001b[0;34m(\u001b[0m\u001b[0msequence\u001b[0m\u001b[0;34m[\u001b[0m\u001b[0;34m-\u001b[0m\u001b[0;36m1\u001b[0m\u001b[0;34m]\u001b[0m\u001b[0;34m)\u001b[0m\u001b[0;34m\u001b[0m\u001b[0m\n",
      "\u001b[0;31mKeyboardInterrupt\u001b[0m: "
     ]
    }
   ],
   "source": [
    "for i in range(30,40):\n",
    "    print(lineToEntropy(python_string,i))"
   ]
  },
  {
   "cell_type": "code",
   "execution_count": null,
   "metadata": {},
   "outputs": [],
   "source": []
  }
 ],
 "metadata": {
  "kernelspec": {
   "display_name": "Python 3.5",
   "language": "python",
   "name": "python3"
  },
  "language_info": {
   "codemirror_mode": {
    "name": "ipython",
    "version": 3
   },
   "file_extension": ".py",
   "mimetype": "text/x-python",
   "name": "python",
   "nbconvert_exporter": "python",
   "pygments_lexer": "ipython3",
   "version": "3.5.6"
  }
 },
 "nbformat": 4,
 "nbformat_minor": 2
}
