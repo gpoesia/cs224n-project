{
 "cells": [
  {
   "cell_type": "markdown",
   "metadata": {},
   "source": [
    "# Result analysis"
   ]
  },
  {
   "cell_type": "code",
   "execution_count": 96,
   "metadata": {},
   "outputs": [
    {
     "name": "stdout",
     "output_type": "stream",
     "text": [
      "The autoreload extension is already loaded. To reload it, use:\n",
      "  %reload_ext autoreload\n"
     ]
    },
    {
     "data": {
      "text/plain": [
       "'1.4.0'"
      ]
     },
     "execution_count": 96,
     "metadata": {},
     "output_type": "execute_result"
    }
   ],
   "source": [
    "%matplotlib inline\n",
    "%load_ext autoreload\n",
    "%autoreload 2\n",
    "\n",
    "import json\n",
    "import baseline\n",
    "import numpy as np\n",
    "from baseline import *\n",
    "from decoder import *\n",
    "from alphabet import *\n",
    "from train import *\n",
    "import torch\n",
    "from matplotlib import pyplot as plt\n",
    "import collections\n",
    "\n",
    "torch.__version__"
   ]
  },
  {
   "cell_type": "markdown",
   "metadata": {},
   "source": [
    "### Dataset and language setup"
   ]
  },
  {
   "cell_type": "code",
   "execution_count": 159,
   "metadata": {},
   "outputs": [
    {
     "name": "stdout",
     "output_type": "stream",
     "text": [
      "602762 training examples, 80964 validation examples, 80789 test exampless\n",
      "616686 training examples, 82731 validation examples, 82543 test exampless\n",
      "565796 training examples, 77886 validation examples, 77884 test exampless\n"
     ]
    }
   ],
   "source": [
    "LANGUAGE = \"Python\"\n",
    "\n",
    "def filter_ascii(strings):\n",
    "    'Returns only the strings that can be encoded in ASCII.'\n",
    "    l = []\n",
    "    for s in strings:\n",
    "        try:\n",
    "            s.encode('ascii')\n",
    "            if 10 <= len(s) <= 80:\n",
    "                l.append(s)\n",
    "        except UnicodeEncodeError:\n",
    "            pass\n",
    "\n",
    "    return list(set(l))\n",
    "\n",
    "def language_2_dataset(language='Python'):\n",
    "    with open('dataset/large.json') as f:\n",
    "        multilang_dataset = json.load(f)\n",
    "        dataset = multilang_dataset[language]\n",
    "\n",
    "        dataset['train'] = filter_ascii(dataset['train'])\n",
    "        dataset['dev'] = filter_ascii(dataset['dev'])\n",
    "        dataset['test'] = filter_ascii(dataset['test'])\n",
    "        print('{} training examples, {} validation examples, {} test exampless'.format(\n",
    "            len(dataset['train']), \n",
    "            len(dataset['dev']),\n",
    "            len(dataset['test'])))\n",
    "        return dataset\n",
    "    \n",
    "full_dataset = {\n",
    "    \"python\": language_2_dataset(\"Python\"),\n",
    "    \"haskell\": language_2_dataset(\"Haskell\"),\n",
    "    \"java\": language_2_dataset(\"Java\"),\n",
    "}"
   ]
  },
  {
   "cell_type": "markdown",
   "metadata": {},
   "source": [
    "## Models we ran"
   ]
  },
  {
   "cell_type": "code",
   "execution_count": 169,
   "metadata": {},
   "outputs": [],
   "source": [
    "python_dat = full_dataset[\"python\"]\n",
    "java_dat = full_dataset[\"java\"]\n",
    "haskell_dat = full_dataset[\"haskell\"]\n",
    "\n",
    "models = [\n",
    "    (UniformEncoder(removal_probability=.7),.0005, python_dat, 'python'),\n",
    "    (UniformEncoder(removal_probability=.8),.0005, python_dat, 'python'), \n",
    "    (RulesBasedEncoder(), .0001, python_dat, 'python'),\n",
    "    (UniformEncoder(removal_probability=.9) , .0001, python_dat, 'python'), \n",
    "    (FrequencyEncoder(dataset=python_dat['train'], compression_rate=.8, n_gram=5), .0005, python_dat, 'python'), \n",
    "    #(FrequencyEncoder(dataset=python_dat['train'], compression_rate=.9, n_gram=5), .0005, python_dat, 'python'), \n",
    "    (UniformFrequencyHybridEncoder(dataset=python_dat['train'], compression_rate=.8, n_gram=5, removal_probability=0.8), .0005, python_dat, 'python'),\n",
    "    #(NonDeterministicFrequencyEncoder(dataset=python_dat['train'], compression_rate=.8, n_gram=5), .0005, python_dat, 'python'),\n",
    "    #(FrequencyEncoderConstantDrop(dataset=python_dat['train'], num_chars=5, n_gram=5), .0005, python_dat, 'python'),\n",
    "    #(FrequencyEncoderConstantDrop(java_dat['train'], num_chars=5, n_gram=5), .0005, java_dat, 'java'),\n",
    "    #(FrequencyEncoderConstantDrop(haskell_dat['train'], num_chars=5, n_gram=5), .0005, haskell_dat, 'haskell'),\n",
    "    #(UniformEncoderConstantDrop(num_chars=5), .0005, python_dat, 'python'),\n",
    "    #(UniformEncoderConstantDrop(num_chars=5), .0005, java_dat, 'java'),\n",
    "    #(UniformEncoderConstantDrop(num_chars=5), .0005, haskell_dat, 'haskell'),\n",
    "]"
   ]
  },
  {
   "cell_type": "code",
   "execution_count": 170,
   "metadata": {},
   "outputs": [
    {
     "name": "stdout",
     "output_type": "stream",
     "text": [
      "Model UniformEncoder(0.70) python loaded!\n",
      "Model UniformEncoder(0.80) python loaded!\n",
      "Model RulesBasedEncoderPython(whitespace=False) python loaded!\n",
      "Model UniformEncoder(0.90) python loaded!\n",
      "Model FrequencyEncoder(5-gram, target_size:0.8) python loaded!\n",
      "Model UniformFrequencyHybridEncoder(5-gram, target_size:0.8) python loaded!\n",
      "6 model(s) loaded.\n"
     ]
    }
   ],
   "source": [
    "def load_model(model, is_baseline=True, load_best=False):\n",
    "    device = torch.device(0) if torch.cuda.is_available() else torch.device('cpu')\n",
    "    encoder, alpha, dataset, lang_name = model\n",
    "\n",
    "    if load_best:\n",
    "        # Load the best model saved during training.\n",
    "        filename = \"trained_models/{}_best_\".format(encoder.name())\n",
    "        loss_history_filename = \"trained_models/best_model_{}\".format(encoder.name())\n",
    "    else:\n",
    "        # Load the final model.\n",
    "        filename = \"trained_models/{}_{}_{}\".format(encoder.name(), alpha, lang_name)\n",
    "        loss_history_filename = \"trained_models/{}_{}_{}.json\".format(encoder.name(), alpha, lang_name)\n",
    "\n",
    "    alphabet = AsciiEmbeddedEncoding(device)\n",
    "    decoder = AutoCompleteDecoderModel(alphabet, hidden_size=512, copy=None)    \n",
    "    decoder.load_state_dict(torch.load(filename + \"decoder.model\"))\n",
    "    alphabet.load_state_dict(torch.load(filename + \"alphabet.model\"))\n",
    "    \n",
    "    decoder.to(device)\n",
    "    alphabet.to(device)\n",
    "    \n",
    "    if not is_baseline:\n",
    "        encoder.load_state_dict(torch.load(filename + \"encoder.model\"))\n",
    "\n",
    "    with open(loss_history_filename) as f:\n",
    "        j = json.load(f)\n",
    "        loss_history = j[\"losses\"]\n",
    "        \n",
    "    return (encoder, decoder, alphabet, lang_name, loss_history)\n",
    "\n",
    "loaded_models = []\n",
    "\n",
    "for m in models:\n",
    "    try:\n",
    "        loaded_models.append(load_model(m))\n",
    "        print('Model', m[0].name(), m[3], 'loaded!')\n",
    "    except Exception as e:\n",
    "        pass\n",
    "        \n",
    "print(len(loaded_models), 'model(s) loaded.')"
   ]
  },
  {
   "cell_type": "markdown",
   "metadata": {},
   "source": [
    "# Plot loss history"
   ]
  },
  {
   "cell_type": "code",
   "execution_count": 171,
   "metadata": {},
   "outputs": [
    {
     "data": {
      "image/png": "[encoded data removed]",
      "text/plain": [
       "<Figure size 432x288 with 1 Axes>"
      ]
     },
     "metadata": {
      "needs_background": "light"
     },
     "output_type": "display_data"
    },
    {
     "data": {
      "image/png": "[encoded data removed]",
      "text/plain": [
       "<Figure size 432x288 with 1 Axes>"
      ]
     },
     "metadata": {
      "needs_background": "light"
     },
     "output_type": "display_data"
    },
    {
     "data": {
      "image/png": "[encoded data removed]",
      "text/plain": [
       "<Figure size 432x288 with 1 Axes>"
      ]
     },
     "metadata": {
      "needs_background": "light"
     },
     "output_type": "display_data"
    },
    {
     "data": {
      "image/png": "[encoded data removed]",
      "text/plain": [
       "<Figure size 432x288 with 1 Axes>"
      ]
     },
     "metadata": {
      "needs_background": "light"
     },
     "output_type": "display_data"
    },
    {
     "data": {
      "image/png": "[encoded data removed]",
      "text/plain": [
       "<Figure size 432x288 with 1 Axes>"
      ]
     },
     "metadata": {
      "needs_background": "light"
     },
     "output_type": "display_data"
    },
    {
     "data": {
      "image/png": "[encoded data removed]",
      "text/plain": [
       "<Figure size 432x288 with 1 Axes>"
      ]
     },
     "metadata": {
      "needs_background": "light"
     },
     "output_type": "display_data"
    }
   ],
   "source": [
    "for (encoder, decoder, alphabet, lang, loss_history) in loaded_models:\n",
    "    plt.title('{} {} loss history'.format(encoder.name(), lang))\n",
    "    plt.xlabel('Iterations')\n",
    "    plt.ylabel('Loss')\n",
    "    plt.plot(loss_history)\n",
    "    plt.show()"
   ]
  },
  {
   "cell_type": "markdown",
   "metadata": {},
   "source": [
    "\n",
    "# Metrics"
   ]
  },
  {
   "cell_type": "code",
   "execution_count": 140,
   "metadata": {},
   "outputs": [],
   "source": [
    "BATCH_SIZE = 128\n",
    "\n",
    "def reset_seeds():\n",
    "    # Set seed before computing accuracy to make the encoders deterministic.\n",
    "    np.random.seed(224)\n",
    "    random.seed(224)\n",
    "    torch.manual_seed(224)\n",
    "\n",
    "# TOOD: move these to a file\n",
    "def edit_distance(s1,s2):\n",
    "    if len(s1)==0: return len(s2)\n",
    "    if len(s2)==0: return len(s1)\n",
    "    if s1[0] == s2[0]: return edit_distance(s1[1:], s2[1:])\n",
    "    return 1 + min(edit_distance(s1[1:],s2),\n",
    "                   edit_distance(s1,s2[1:]),\n",
    "                   edit_distance(s1[1:],s2[1:]))\n",
    "\n",
    "def batched_decode_all(model, dataset):\n",
    "    reset_seeds()\n",
    "\n",
    "    (encoder, decoder, alphabet, _, _) = model\n",
    "    \n",
    "    encoded_strings = [encoder.encode(s) for s in dataset]\n",
    "    decoded = []    \n",
    "\n",
    "    for i in range((len(dataset) + BATCH_SIZE - 1) // BATCH_SIZE):\n",
    "        decoded.extend(decoder(encoded_strings[i*BATCH_SIZE:(i+1)*BATCH_SIZE], alphabet))\n",
    "\n",
    "    return list(zip(dataset, encoded_strings, decoded))\n",
    "    \n",
    "def top1accuracy(examples):\n",
    "    return sum([examples[i][0] == examples[i][2] for i in range(len(examples))]) / len(examples)\n",
    "\n",
    "def top5accuracy(model, dataset, max_length=100):\n",
    "    (encoder, decoder, alphabet, _, _) = model\n",
    "    count = 0\n",
    "    for string in dataset:\n",
    "        compressed = encoder.encode(string)\n",
    "        best_five = list(map(lambda x:x[1][1:-1], \n",
    "                             decoder.beam_search(compressed, alphabet, beam_size=5, max_depth=max_length)))\n",
    "        if string in best_five: count += 1\n",
    "    return float(count) / len(dataset)\n",
    "\n",
    "def editAccuracy(dataset):\n",
    "    return average([\n",
    "        edit_distance(decoder(encoder.encode(s), alphabet), \n",
    "                      s)/len(s) for s in dataset])"
   ]
  },
  {
   "cell_type": "markdown",
   "metadata": {},
   "source": [
    "# Run evaluation\n",
    "\n",
    "The functions below are filters to compute metrics in diffetent slices of the dataset"
   ]
  },
  {
   "cell_type": "code",
   "execution_count": 141,
   "metadata": {},
   "outputs": [],
   "source": [
    "def all_lines(original, encoded):\n",
    "    return True\n",
    "\n",
    "def short_lines(original, encoded):\n",
    "    return len(original) <= 25\n",
    "\n",
    "def long_lines(original, encoded):\n",
    "    return len(original) >= 65\n",
    "\n",
    "all_slices = {\n",
    "    'all_lines': all_lines,\n",
    "    'short_lines': short_lines,\n",
    "    'long_lines': long_lines,\n",
    "}"
   ]
  },
  {
   "cell_type": "code",
   "execution_count": 8,
   "metadata": {},
   "outputs": [
    {
     "name": "stdout",
     "output_type": "stream",
     "text": [
      "Testing UniformEncoder(0.80) python\n"
     ]
    },
    {
     "ename": "KeyboardInterrupt",
     "evalue": "",
     "output_type": "error",
     "traceback": [
      "\u001b[0;31m---------------------------------------------------------------------------\u001b[0m",
      "\u001b[0;31mKeyboardInterrupt\u001b[0m                         Traceback (most recent call last)",
      "\u001b[0;32m<ipython-input-8-5fb3dfea1eb7>\u001b[0m in \u001b[0;36m<module>\u001b[0;34m()\u001b[0m\n\u001b[1;32m     15\u001b[0m     \u001b[0;32mfor\u001b[0m \u001b[0msplit\u001b[0m \u001b[0;32min\u001b[0m \u001b[0;34m[\u001b[0m\u001b[0;34m'test'\u001b[0m\u001b[0;34m]\u001b[0m\u001b[0;34m:\u001b[0m\u001b[0;34m\u001b[0m\u001b[0m\n\u001b[1;32m     16\u001b[0m         \u001b[0;32mfor\u001b[0m \u001b[0mslice_name\u001b[0m\u001b[0;34m,\u001b[0m \u001b[0mpredicate\u001b[0m \u001b[0;32min\u001b[0m \u001b[0mall_slices\u001b[0m\u001b[0;34m.\u001b[0m\u001b[0mitems\u001b[0m\u001b[0;34m(\u001b[0m\u001b[0;34m)\u001b[0m\u001b[0;34m:\u001b[0m\u001b[0;34m\u001b[0m\u001b[0m\n\u001b[0;32m---> 17\u001b[0;31m             \u001b[0mtop1_acc\u001b[0m\u001b[0;34m,\u001b[0m \u001b[0mcompression\u001b[0m \u001b[0;34m=\u001b[0m \u001b[0mevaluate\u001b[0m\u001b[0;34m(\u001b[0m\u001b[0mmodel\u001b[0m\u001b[0;34m,\u001b[0m \u001b[0msplit\u001b[0m\u001b[0;34m,\u001b[0m \u001b[0mpredicate\u001b[0m\u001b[0;34m)\u001b[0m\u001b[0;34m\u001b[0m\u001b[0m\n\u001b[0m\u001b[1;32m     18\u001b[0m             \u001b[0mprint\u001b[0m\u001b[0;34m(\u001b[0m\u001b[0;34m' '\u001b[0m \u001b[0;34m*\u001b[0m \u001b[0;36m8\u001b[0m\u001b[0;34m,\u001b[0m \u001b[0msplit\u001b[0m\u001b[0;34m,\u001b[0m \u001b[0mslice_name\u001b[0m\u001b[0;34m,\u001b[0m \u001b[0;34m'top-1 accuracy:'\u001b[0m\u001b[0;34m,\u001b[0m \u001b[0mtop1_acc\u001b[0m\u001b[0;34m,\u001b[0m \u001b[0;34m'compression rate: {:.3f}'\u001b[0m\u001b[0;34m.\u001b[0m\u001b[0mformat\u001b[0m\u001b[0;34m(\u001b[0m\u001b[0mcompression\u001b[0m\u001b[0;34m)\u001b[0m\u001b[0;34m)\u001b[0m\u001b[0;34m\u001b[0m\u001b[0m\n",
      "\u001b[0;32m<ipython-input-8-5fb3dfea1eb7>\u001b[0m in \u001b[0;36mevaluate\u001b[0;34m(model, split, pred_filter)\u001b[0m\n\u001b[1;32m      3\u001b[0m     \u001b[0mdataset\u001b[0m \u001b[0;34m=\u001b[0m \u001b[0mfull_dataset\u001b[0m\u001b[0;34m[\u001b[0m\u001b[0mlanguage\u001b[0m\u001b[0;34m]\u001b[0m\u001b[0;34m[\u001b[0m\u001b[0msplit\u001b[0m\u001b[0;34m]\u001b[0m\u001b[0;34m[\u001b[0m\u001b[0;34m:\u001b[0m\u001b[0;36m2000\u001b[0m\u001b[0;34m]\u001b[0m\u001b[0;34m\u001b[0m\u001b[0m\n\u001b[1;32m      4\u001b[0m \u001b[0;34m\u001b[0m\u001b[0m\n\u001b[0;32m----> 5\u001b[0;31m     \u001b[0mexamples\u001b[0m \u001b[0;34m=\u001b[0m \u001b[0mbatched_decode_all\u001b[0m\u001b[0;34m(\u001b[0m\u001b[0mmodel\u001b[0m\u001b[0;34m,\u001b[0m \u001b[0mdataset\u001b[0m\u001b[0;34m)\u001b[0m\u001b[0;34m\u001b[0m\u001b[0m\n\u001b[0m\u001b[1;32m      6\u001b[0m     \u001b[0mexamples\u001b[0m \u001b[0;34m=\u001b[0m \u001b[0;34m[\u001b[0m\u001b[0;34m(\u001b[0m\u001b[0mo\u001b[0m\u001b[0;34m,\u001b[0m \u001b[0me\u001b[0m\u001b[0;34m,\u001b[0m \u001b[0md\u001b[0m\u001b[0;34m)\u001b[0m \u001b[0;32mfor\u001b[0m \u001b[0;34m(\u001b[0m\u001b[0mo\u001b[0m\u001b[0;34m,\u001b[0m \u001b[0me\u001b[0m\u001b[0;34m,\u001b[0m \u001b[0md\u001b[0m\u001b[0;34m)\u001b[0m \u001b[0;32min\u001b[0m \u001b[0mexamples\u001b[0m \u001b[0;32mif\u001b[0m \u001b[0mpred_filter\u001b[0m\u001b[0;34m(\u001b[0m\u001b[0mo\u001b[0m\u001b[0;34m,\u001b[0m \u001b[0me\u001b[0m\u001b[0;34m)\u001b[0m\u001b[0;34m]\u001b[0m\u001b[0;34m\u001b[0m\u001b[0m\n\u001b[1;32m      7\u001b[0m \u001b[0;34m\u001b[0m\u001b[0m\n",
      "\u001b[0;32m<ipython-input-6-9e7737d1466a>\u001b[0m in \u001b[0;36mbatched_decode_all\u001b[0;34m(model, dataset)\u001b[0m\n\u001b[1;32m     25\u001b[0m \u001b[0;34m\u001b[0m\u001b[0m\n\u001b[1;32m     26\u001b[0m     \u001b[0;32mfor\u001b[0m \u001b[0mi\u001b[0m \u001b[0;32min\u001b[0m \u001b[0mrange\u001b[0m\u001b[0;34m(\u001b[0m\u001b[0;34m(\u001b[0m\u001b[0mlen\u001b[0m\u001b[0;34m(\u001b[0m\u001b[0mdataset\u001b[0m\u001b[0;34m)\u001b[0m \u001b[0;34m+\u001b[0m \u001b[0mBATCH_SIZE\u001b[0m \u001b[0;34m-\u001b[0m \u001b[0;36m1\u001b[0m\u001b[0;34m)\u001b[0m \u001b[0;34m//\u001b[0m \u001b[0mBATCH_SIZE\u001b[0m\u001b[0;34m)\u001b[0m\u001b[0;34m:\u001b[0m\u001b[0;34m\u001b[0m\u001b[0m\n\u001b[0;32m---> 27\u001b[0;31m         \u001b[0mdecoded\u001b[0m\u001b[0;34m.\u001b[0m\u001b[0mextend\u001b[0m\u001b[0;34m(\u001b[0m\u001b[0mdecoder\u001b[0m\u001b[0;34m(\u001b[0m\u001b[0mencoded_strings\u001b[0m\u001b[0;34m[\u001b[0m\u001b[0mi\u001b[0m\u001b[0;34m*\u001b[0m\u001b[0mBATCH_SIZE\u001b[0m\u001b[0;34m:\u001b[0m\u001b[0;34m(\u001b[0m\u001b[0mi\u001b[0m\u001b[0;34m+\u001b[0m\u001b[0;36m1\u001b[0m\u001b[0;34m)\u001b[0m\u001b[0;34m*\u001b[0m\u001b[0mBATCH_SIZE\u001b[0m\u001b[0;34m]\u001b[0m\u001b[0;34m,\u001b[0m \u001b[0malphabet\u001b[0m\u001b[0;34m)\u001b[0m\u001b[0;34m)\u001b[0m\u001b[0;34m\u001b[0m\u001b[0m\n\u001b[0m\u001b[1;32m     28\u001b[0m \u001b[0;34m\u001b[0m\u001b[0m\n\u001b[1;32m     29\u001b[0m     \u001b[0;32mreturn\u001b[0m \u001b[0mlist\u001b[0m\u001b[0;34m(\u001b[0m\u001b[0mzip\u001b[0m\u001b[0;34m(\u001b[0m\u001b[0mdataset\u001b[0m\u001b[0;34m,\u001b[0m \u001b[0mencoded_strings\u001b[0m\u001b[0;34m,\u001b[0m \u001b[0mdecoded\u001b[0m\u001b[0;34m)\u001b[0m\u001b[0;34m)\u001b[0m\u001b[0;34m\u001b[0m\u001b[0m\n",
      "\u001b[0;32m/anaconda/envs/py35/lib/python3.5/site-packages/torch/nn/modules/module.py\u001b[0m in \u001b[0;36m__call__\u001b[0;34m(self, *input, **kwargs)\u001b[0m\n\u001b[1;32m    530\u001b[0m             \u001b[0mresult\u001b[0m \u001b[0;34m=\u001b[0m \u001b[0mself\u001b[0m\u001b[0;34m.\u001b[0m\u001b[0m_slow_forward\u001b[0m\u001b[0;34m(\u001b[0m\u001b[0;34m*\u001b[0m\u001b[0minput\u001b[0m\u001b[0;34m,\u001b[0m \u001b[0;34m**\u001b[0m\u001b[0mkwargs\u001b[0m\u001b[0;34m)\u001b[0m\u001b[0;34m\u001b[0m\u001b[0m\n\u001b[1;32m    531\u001b[0m         \u001b[0;32melse\u001b[0m\u001b[0;34m:\u001b[0m\u001b[0;34m\u001b[0m\u001b[0m\n\u001b[0;32m--> 532\u001b[0;31m             \u001b[0mresult\u001b[0m \u001b[0;34m=\u001b[0m \u001b[0mself\u001b[0m\u001b[0;34m.\u001b[0m\u001b[0mforward\u001b[0m\u001b[0;34m(\u001b[0m\u001b[0;34m*\u001b[0m\u001b[0minput\u001b[0m\u001b[0;34m,\u001b[0m \u001b[0;34m**\u001b[0m\u001b[0mkwargs\u001b[0m\u001b[0;34m)\u001b[0m\u001b[0;34m\u001b[0m\u001b[0m\n\u001b[0m\u001b[1;32m    533\u001b[0m         \u001b[0;32mfor\u001b[0m \u001b[0mhook\u001b[0m \u001b[0;32min\u001b[0m \u001b[0mself\u001b[0m\u001b[0;34m.\u001b[0m\u001b[0m_forward_hooks\u001b[0m\u001b[0;34m.\u001b[0m\u001b[0mvalues\u001b[0m\u001b[0;34m(\u001b[0m\u001b[0;34m)\u001b[0m\u001b[0;34m:\u001b[0m\u001b[0;34m\u001b[0m\u001b[0m\n\u001b[1;32m    534\u001b[0m             \u001b[0mhook_result\u001b[0m \u001b[0;34m=\u001b[0m \u001b[0mhook\u001b[0m\u001b[0;34m(\u001b[0m\u001b[0mself\u001b[0m\u001b[0;34m,\u001b[0m \u001b[0minput\u001b[0m\u001b[0;34m,\u001b[0m \u001b[0mresult\u001b[0m\u001b[0;34m)\u001b[0m\u001b[0;34m\u001b[0m\u001b[0m\n",
      "\u001b[0;32m/data/home/BingBong/cs224n-project/decoder.py\u001b[0m in \u001b[0;36mforward\u001b[0;34m(self, compressed, alphabet, expected)\u001b[0m\n\u001b[1;32m    145\u001b[0m                     decoded_strings[idx].append(\n\u001b[1;32m    146\u001b[0m                              \u001b[0malphabet\u001b[0m\u001b[0;34m.\u001b[0m\u001b[0mindex_to_char\u001b[0m\u001b[0;34m(\u001b[0m\u001b[0mpredictions\u001b[0m\u001b[0;34m[\u001b[0m\u001b[0midx\u001b[0m\u001b[0;34m]\u001b[0m\u001b[0;34m)\u001b[0m\u001b[0;34m\u001b[0m\u001b[0m\n\u001b[0;32m--> 147\u001b[0;31m                             \u001b[0;32mif\u001b[0m \u001b[0;32mnot\u001b[0m \u001b[0mcopy\u001b[0m\u001b[0;34m\u001b[0m\u001b[0m\n\u001b[0m\u001b[1;32m    148\u001b[0m                             else (compressed[idx][copy_counters[idx]]\n\u001b[1;32m    149\u001b[0m                                   \u001b[0;32mif\u001b[0m \u001b[0mcopy_counters\u001b[0m\u001b[0;34m[\u001b[0m\u001b[0midx\u001b[0m\u001b[0;34m]\u001b[0m \u001b[0;34m<\u001b[0m \u001b[0mlen\u001b[0m\u001b[0;34m(\u001b[0m\u001b[0mcompressed\u001b[0m\u001b[0;34m[\u001b[0m\u001b[0midx\u001b[0m\u001b[0;34m]\u001b[0m\u001b[0;34m)\u001b[0m\u001b[0;34m\u001b[0m\u001b[0m\n",
      "\u001b[0;32m/data/home/BingBong/cs224n-project/alphabet.py\u001b[0m in \u001b[0;36mindex_to_char\u001b[0;34m(self, i)\u001b[0m\n\u001b[1;32m    242\u001b[0m         \u001b[0;32mreturn\u001b[0m \u001b[0mord\u001b[0m\u001b[0;34m(\u001b[0m\u001b[0mc\u001b[0m\u001b[0;34m)\u001b[0m\u001b[0;34m\u001b[0m\u001b[0m\n\u001b[1;32m    243\u001b[0m \u001b[0;34m\u001b[0m\u001b[0m\n\u001b[0;32m--> 244\u001b[0;31m     \u001b[0;32mdef\u001b[0m \u001b[0mindex_to_char\u001b[0m\u001b[0;34m(\u001b[0m\u001b[0mself\u001b[0m\u001b[0;34m,\u001b[0m \u001b[0mi\u001b[0m\u001b[0;34m)\u001b[0m\u001b[0;34m:\u001b[0m\u001b[0;34m\u001b[0m\u001b[0m\n\u001b[0m\u001b[1;32m    245\u001b[0m         \u001b[0;32mreturn\u001b[0m \u001b[0mchr\u001b[0m\u001b[0;34m(\u001b[0m\u001b[0mi\u001b[0m\u001b[0;34m)\u001b[0m\u001b[0;34m\u001b[0m\u001b[0m\n\u001b[1;32m    246\u001b[0m \u001b[0;34m\u001b[0m\u001b[0m\n",
      "\u001b[0;31mKeyboardInterrupt\u001b[0m: "
     ]
    }
   ],
   "source": [
    "def evaluate(model, split, pred_filter=id):\n",
    "    (encoder, decoder, alphabet, language, _) = model\n",
    "    dataset = full_dataset[language][split][:2000]\n",
    "    \n",
    "    examples = batched_decode_all(model, dataset)\n",
    "    examples = [(o, e, d) for (o, e, d) in examples if pred_filter(o, e)]\n",
    "    \n",
    "    compression = sum(len(enc) for orig, enc, dec in examples) / sum(len(o) for (o, e, d) in examples)\n",
    "    top1_acc = top1accuracy(examples)\n",
    "    return top1_acc, compression\n",
    "\n",
    "for model in loaded_models:\n",
    "    print('Testing', model[0].name(), model[3])\n",
    "\n",
    "    for split in ['test']:\n",
    "        for slice_name, predicate in all_slices.items():\n",
    "            top1_acc, compression = evaluate(model, split, predicate)\n",
    "            print(' ' * 8, split, slice_name, 'top-1 accuracy:', top1_acc, 'compression rate: {:.3f}'.format(compression))"
   ]
  },
  {
   "cell_type": "markdown",
   "metadata": {},
   "source": [
    "### Ideas\n",
    " Just consider UniformEncoder, RulesBasedEncoder, FrequencyEncoder in python first\n",
    " Figure out if rules are reconstructed by uniform or frequency\n",
    "  ^Are uniform and frequency supersets of rules^\n",
    " is beam search doing the right thing?\n",
    " Seems to have a lack of predictions that terminate\n",
    "  Maybe should accept a sentence as soon as the beam search yields an end\n",
    "    as opposed to reconsidering after every next layer of beam search\n",
    "    Can beam search be written outside of the class to prevent need for rerun?\n",
    "  "
   ]
  },
  {
   "cell_type": "code",
   "execution_count": 142,
   "metadata": {},
   "outputs": [
    {
     "data": {
      "text/plain": [
       "['class TwitterUser:',\n",
       " '] + [x for y in [',\n",
       " 'y += int(sunrise_static_surface.get_size()[1] * 1.1)',\n",
       " \"'steps': '1',\"]"
      ]
     },
     "execution_count": 142,
     "metadata": {},
     "output_type": "execute_result"
    }
   ],
   "source": [
    "full_dataset['python']['dev'][1:5]"
   ]
  },
  {
   "cell_type": "code",
   "execution_count": 143,
   "metadata": {},
   "outputs": [
    {
     "name": "stdout",
     "output_type": "stream",
     "text": [
      "<baseline.UniformEncoder object at 0x7ff42464f320> python\n",
      "['format={']\n",
      "<baseline.UniformEncoder object at 0x7ff42464f1d0> python\n",
      "['for (']\n",
      "<baseline.UniformEncoder object at 0x7ff42464f278> python\n",
      "[\"for ', form\"]\n",
      "<baseline.NonDeterministicFrequencyEncoder object at 0x7ff42464f2e8> python\n",
      "['folder']\n"
     ]
    }
   ],
   "source": [
    "for a in loaded_models:\n",
    "    print(a[0],a[3])\n",
    "    print(a[1]([\"for\"],a[2]))\n",
    "# does frequence learn the rules"
   ]
  },
  {
   "cell_type": "code",
   "execution_count": 146,
   "metadata": {},
   "outputs": [
    {
     "name": "stdout",
     "output_type": "stream",
     "text": [
      "<baseline.UniformEncoder object at 0x7ff42464f320> \n",
      " url = 'https://github.com/caxap/rest_condition' \n",
      " [\"url = 'https://github.com/caxap/rest_condition'\", \"url = 'https://github.com/cax/api/rest_condition'\"] \n",
      "\n",
      "\n",
      "\n",
      "<baseline.UniformEncoder object at 0x7ff42464f1d0> \n",
      " url = 'https://github.com/caxapp/rest_condition' \n",
      " [\"url = 'https://github.com/caxapp/rest_condition'\", \"url = 'https://github.com/caxapp/rest_conditions'\"] \n",
      "\n",
      "\n",
      "\n",
      "<baseline.UniformEncoder object at 0x7ff42464f278> \n",
      " url = 'https://giub.com/caxap/rest_condation' \n",
      " [\"url = 'https://giub.com/caxap/rest_condting'\", \"url = 'https://ginub.com/caxap/rest_condition'\"] \n",
      "\n",
      "\n",
      "\n",
      "<baseline.NonDeterministicFrequencyEncoder object at 0x7ff42464f2e8> \n",
      " url = 'https:/giub.com/caxap/restart_cndtione.com/restart_cndtin' \n",
      " [\"url = 'https:/giub.com/caxap/restart_cndtermin'\", \"url = 'https:/giub.com/caxap/restart_cndtime then'\"] \n",
      "\n",
      "\n",
      "\n"
     ]
    }
   ],
   "source": [
    "#unif8,rules,unif9,freq8,freq9 = loaded_models[:5]\n",
    "unif7,unif8,unif9,ndfreq8 = loaded_models\n",
    "#s = \"fr ii rn100\"\n",
    "def run_models_on_string(string, models):\n",
    "    for model in models:\n",
    "        (encoder, decoder, alphabet, language, _) = model\n",
    "        print(encoder, \"\\n\", decoder([string], alphabet)[0],\"\\n\", \n",
    "              beam_search_predictions(decoder, string, alphabet, beam_size=2),\"\\n\")\n",
    "        print(\"\\n\")\n",
    "        \n",
    "run_models_on_string(\"url = 'https:/giub.com/caxap/rest_cndtin'\", loaded_models)"
   ]
  },
  {
   "cell_type": "code",
   "execution_count": 168,
   "metadata": {},
   "outputs": [
    {
     "name": "stdout",
     "output_type": "stream",
     "text": [
      "if c == '\\x1b':\n",
      "print test_best_hand()\n",
      "filename = \"{}.db\".format(filename)\n",
      "def patch(self, *args, **kwargs):\n",
      ":param int timeLimit: The maximum duration of the Call in seconds \n",
      "\n",
      "if  '\\x\n",
      "prin testbshand()\n",
      "ilenam .d.frmt(fiename)\n",
      "f atch(self,*args, **kas:\n",
      "aram it timeimit The  ration of the Cal  scns \n",
      "\n",
      "if ' ' \\x\n",
      "print test_basehand()\n",
      "filename = re.db.format(filename)\n",
      "def match(self, *args, **kwargs):\n",
      "Param it time time it The a ration of the Call a seconds\n"
     ]
    }
   ],
   "source": [
    "(encoder, decoder, alphabet, language, _) = unif7\n",
    "dataset = full_dataset['python']['dev'][5:10]\n",
    "print(\"\\n\".join(dataset),\"\\n\")\n",
    "encoded = encoder.encode_batch(dataset)\n",
    "print(\"\\n\".join(encoded),\"\\n\")\n",
    "print(\"\\n\".join(decoder(encoded,alphabet)))"
   ]
  },
  {
   "cell_type": "code",
   "execution_count": 148,
   "metadata": {},
   "outputs": [
    {
     "data": {
      "text/plain": [
       "(5, 'hello', {0: 1})"
      ]
     },
     "execution_count": 148,
     "metadata": {},
     "output_type": "execute_result"
    }
   ],
   "source": [
    "def succ(string):\n",
    "    return set([string[:i] + string[i+1:] for i in range(len(string))])\n",
    "    \n",
    "def getFarthestMatchLevel(in_string, model, max_match_level=None):\n",
    "    (encoder, decoder, alphabet, language, _) = model\n",
    "    if in_string != decoder([in_string], alphabet)[0]: return 0\n",
    "    candidates = [in_string]\n",
    "    considered_strings = set([in_string])\n",
    "    min_length_string = in_string\n",
    "    num_at_level = {0:1}\n",
    "    level_count = 0\n",
    "    while candidates:\n",
    "        candidate = candidates.pop()\n",
    "        if len(candidate) < len(min_length_string):\n",
    "            num_at_level[len(in_string) - len(min_length_string)] = level_count\n",
    "            print(\"count at level\", len(in_string) - len(min_length_string), \":\", level_count, \"\\n\")\n",
    "            if max_match_level and max_match_level == len(in_string) - len(min_length_string):\n",
    "                break\n",
    "            min_length_string = candidate\n",
    "            level_count = 0\n",
    "            print(min_length_string, len(in_string) - len(min_length_string))\n",
    "        level_count += 1\n",
    "        potential_next_candidates = list(succ(candidate) - considered_strings)\n",
    "        next_candidate_indices = list(map(lambda x:x[0],\n",
    "                                          filter(lambda x:x[1]==in_string, \n",
    "                                              enumerate(decoder(potential_next_candidates, alphabet)))))\n",
    "        next_candidates = [potential_next_candidates[i] for i in next_candidate_indices]\n",
    "        candidates=next_candidates+candidates\n",
    "        #if len(next_candidates)>0:\n",
    "        #    print(next_candidates[0], len(in_string) - len(next_candidates[0]))\n",
    "        considered_strings = considered_strings.union(set(next_candidates))\n",
    "    return (len(min_length_string), min_length_string, num_at_level)\n",
    "        \n",
    "getFarthestMatchLevel(\"hello\", ndfreq8)"
   ]
  },
  {
   "cell_type": "code",
   "execution_count": 149,
   "metadata": {},
   "outputs": [
    {
     "data": {
      "text/plain": [
       "0"
      ]
     },
     "execution_count": 149,
     "metadata": {},
     "output_type": "execute_result"
    }
   ],
   "source": [
    "#getFarthestMatchLevel(\"for i in range(100):\", freq)\n",
    "getFarthestMatchLevel(\"for i in range(100):\", ndfreq8)"
   ]
  },
  {
   "cell_type": "code",
   "execution_count": 150,
   "metadata": {
    "scrolled": true
   },
   "outputs": [
    {
     "name": "stdout",
     "output_type": "stream",
     "text": [
      "<baseline.NonDeterministicFrequencyEncoder object at 0x7ff42464f2e8> \n",
      " for i in range(100000): \n",
      " ['for i in range(100000):', 'for i in range(100000000):'] \n",
      "\n",
      "\n",
      "\n"
     ]
    }
   ],
   "source": [
    "run_models_on_string(\"for i in range(100):\", [ndfreq8])"
   ]
  },
  {
   "cell_type": "code",
   "execution_count": 134,
   "metadata": {},
   "outputs": [
    {
     "name": "stdout",
     "output_type": "stream",
     "text": [
      "count at level 0 : 1 \n",
      "\n",
      "fori in range(100): 1\n",
      "count at level 1 : 11 \n",
      "\n",
      "fori in rage(100): 2\n",
      "count at level 2 : 97 \n",
      "\n",
      "fori inrage(100): 3\n"
     ]
    },
    {
     "ename": "KeyboardInterrupt",
     "evalue": "",
     "output_type": "error",
     "traceback": [
      "\u001b[0;31m---------------------------------------------------------------------------\u001b[0m",
      "\u001b[0;31mKeyboardInterrupt\u001b[0m                         Traceback (most recent call last)",
      "\u001b[0;32m<ipython-input-134-a7b6ff764607>\u001b[0m in \u001b[0;36m<module>\u001b[0;34m()\u001b[0m\n\u001b[0;32m----> 1\u001b[0;31m \u001b[0mgetFarthestMatchLevel\u001b[0m\u001b[0;34m(\u001b[0m\u001b[0;34m\"for i in range(100):\"\u001b[0m\u001b[0;34m,\u001b[0m \u001b[0munif7\u001b[0m\u001b[0;34m)\u001b[0m\u001b[0;34m\u001b[0m\u001b[0m\n\u001b[0m",
      "\u001b[0;32m<ipython-input-126-8a958dca5689>\u001b[0m in \u001b[0;36mgetFarthestMatchLevel\u001b[0;34m(in_string, model, max_match_level)\u001b[0m\n\u001b[1;32m     24\u001b[0m         next_candidate_indices = list(map(lambda x:x[0],\n\u001b[1;32m     25\u001b[0m                                           filter(lambda x:x[1]==in_string, \n\u001b[0;32m---> 26\u001b[0;31m                                               enumerate(decoder(potential_next_candidates, alphabet)))))\n\u001b[0m\u001b[1;32m     27\u001b[0m         \u001b[0mnext_candidates\u001b[0m \u001b[0;34m=\u001b[0m \u001b[0;34m[\u001b[0m\u001b[0mpotential_next_candidates\u001b[0m\u001b[0;34m[\u001b[0m\u001b[0mi\u001b[0m\u001b[0;34m]\u001b[0m \u001b[0;32mfor\u001b[0m \u001b[0mi\u001b[0m \u001b[0;32min\u001b[0m \u001b[0mnext_candidate_indices\u001b[0m\u001b[0;34m]\u001b[0m\u001b[0;34m\u001b[0m\u001b[0m\n\u001b[1;32m     28\u001b[0m         \u001b[0mcandidates\u001b[0m\u001b[0;34m=\u001b[0m\u001b[0mnext_candidates\u001b[0m\u001b[0;34m+\u001b[0m\u001b[0mcandidates\u001b[0m\u001b[0;34m\u001b[0m\u001b[0m\n",
      "\u001b[0;32m/anaconda/envs/py35/lib/python3.5/site-packages/torch/nn/modules/module.py\u001b[0m in \u001b[0;36m__call__\u001b[0;34m(self, *input, **kwargs)\u001b[0m\n\u001b[1;32m    530\u001b[0m             \u001b[0mresult\u001b[0m \u001b[0;34m=\u001b[0m \u001b[0mself\u001b[0m\u001b[0;34m.\u001b[0m\u001b[0m_slow_forward\u001b[0m\u001b[0;34m(\u001b[0m\u001b[0;34m*\u001b[0m\u001b[0minput\u001b[0m\u001b[0;34m,\u001b[0m \u001b[0;34m**\u001b[0m\u001b[0mkwargs\u001b[0m\u001b[0;34m)\u001b[0m\u001b[0;34m\u001b[0m\u001b[0m\n\u001b[1;32m    531\u001b[0m         \u001b[0;32melse\u001b[0m\u001b[0;34m:\u001b[0m\u001b[0;34m\u001b[0m\u001b[0m\n\u001b[0;32m--> 532\u001b[0;31m             \u001b[0mresult\u001b[0m \u001b[0;34m=\u001b[0m \u001b[0mself\u001b[0m\u001b[0;34m.\u001b[0m\u001b[0mforward\u001b[0m\u001b[0;34m(\u001b[0m\u001b[0;34m*\u001b[0m\u001b[0minput\u001b[0m\u001b[0;34m,\u001b[0m \u001b[0;34m**\u001b[0m\u001b[0mkwargs\u001b[0m\u001b[0;34m)\u001b[0m\u001b[0;34m\u001b[0m\u001b[0m\n\u001b[0m\u001b[1;32m    533\u001b[0m         \u001b[0;32mfor\u001b[0m \u001b[0mhook\u001b[0m \u001b[0;32min\u001b[0m \u001b[0mself\u001b[0m\u001b[0;34m.\u001b[0m\u001b[0m_forward_hooks\u001b[0m\u001b[0;34m.\u001b[0m\u001b[0mvalues\u001b[0m\u001b[0;34m(\u001b[0m\u001b[0;34m)\u001b[0m\u001b[0;34m:\u001b[0m\u001b[0;34m\u001b[0m\u001b[0m\n\u001b[1;32m    534\u001b[0m             \u001b[0mhook_result\u001b[0m \u001b[0;34m=\u001b[0m \u001b[0mhook\u001b[0m\u001b[0;34m(\u001b[0m\u001b[0mself\u001b[0m\u001b[0;34m,\u001b[0m \u001b[0minput\u001b[0m\u001b[0;34m,\u001b[0m \u001b[0mresult\u001b[0m\u001b[0;34m)\u001b[0m\u001b[0;34m\u001b[0m\u001b[0m\n",
      "\u001b[0;32m/data/home/BingBong/cs224n-project/decoder.py\u001b[0m in \u001b[0;36mforward\u001b[0;34m(self, compressed, alphabet, expected)\u001b[0m\n\u001b[1;32m    145\u001b[0m                     decoded_strings[idx].append(\n\u001b[1;32m    146\u001b[0m                              \u001b[0malphabet\u001b[0m\u001b[0;34m.\u001b[0m\u001b[0mindex_to_char\u001b[0m\u001b[0;34m(\u001b[0m\u001b[0mpredictions\u001b[0m\u001b[0;34m[\u001b[0m\u001b[0midx\u001b[0m\u001b[0;34m]\u001b[0m\u001b[0;34m)\u001b[0m\u001b[0;34m\u001b[0m\u001b[0m\n\u001b[0;32m--> 147\u001b[0;31m                             \u001b[0;32mif\u001b[0m \u001b[0;32mnot\u001b[0m \u001b[0mcopy\u001b[0m\u001b[0;34m\u001b[0m\u001b[0m\n\u001b[0m\u001b[1;32m    148\u001b[0m                             else (compressed[idx][copy_counters[idx]]\n\u001b[1;32m    149\u001b[0m                                   \u001b[0;32mif\u001b[0m \u001b[0mcopy_counters\u001b[0m\u001b[0;34m[\u001b[0m\u001b[0midx\u001b[0m\u001b[0;34m]\u001b[0m \u001b[0;34m<\u001b[0m \u001b[0mlen\u001b[0m\u001b[0;34m(\u001b[0m\u001b[0mcompressed\u001b[0m\u001b[0;34m[\u001b[0m\u001b[0midx\u001b[0m\u001b[0;34m]\u001b[0m\u001b[0;34m)\u001b[0m\u001b[0;34m\u001b[0m\u001b[0m\n",
      "\u001b[0;32m/data/home/BingBong/cs224n-project/alphabet.py\u001b[0m in \u001b[0;36mindex_to_char\u001b[0;34m(self, i)\u001b[0m\n\u001b[1;32m    243\u001b[0m \u001b[0;34m\u001b[0m\u001b[0m\n\u001b[1;32m    244\u001b[0m     \u001b[0;32mdef\u001b[0m \u001b[0mindex_to_char\u001b[0m\u001b[0;34m(\u001b[0m\u001b[0mself\u001b[0m\u001b[0;34m,\u001b[0m \u001b[0mi\u001b[0m\u001b[0;34m)\u001b[0m\u001b[0;34m:\u001b[0m\u001b[0;34m\u001b[0m\u001b[0m\n\u001b[0;32m--> 245\u001b[0;31m         \u001b[0;32mreturn\u001b[0m \u001b[0mchr\u001b[0m\u001b[0;34m(\u001b[0m\u001b[0mi\u001b[0m\u001b[0;34m)\u001b[0m\u001b[0;34m\u001b[0m\u001b[0m\n\u001b[0m\u001b[1;32m    246\u001b[0m \u001b[0;34m\u001b[0m\u001b[0m\n\u001b[1;32m    247\u001b[0m     \u001b[0;32mdef\u001b[0m \u001b[0mencode_tensor_indices\u001b[0m\u001b[0;34m(\u001b[0m\u001b[0mself\u001b[0m\u001b[0;34m,\u001b[0m \u001b[0mbatch\u001b[0m\u001b[0;34m)\u001b[0m\u001b[0;34m:\u001b[0m\u001b[0;34m\u001b[0m\u001b[0m\n",
      "\u001b[0;31mKeyboardInterrupt\u001b[0m: "
     ]
    }
   ],
   "source": [
    "getFarthestMatchLevel(\"for i in range(100):\", unif7)"
   ]
  },
  {
   "cell_type": "code",
   "execution_count": 24,
   "metadata": {},
   "outputs": [
    {
     "name": "stdout",
     "output_type": "stream",
     "text": [
      "count at level 0 : 1 \n",
      "\n",
      "fr i in range(100): 1\n",
      "count at level 1 : 1 \n",
      "\n",
      "fr i in rnge(100): 2\n",
      "count at level 2 : 1 \n",
      "\n",
      "fr i in rng(100): 3\n"
     ]
    },
    {
     "data": {
      "text/plain": [
       "(17, 'fr i in rng(100):', {0: 1, 1: 1, 2: 1})"
      ]
     },
     "execution_count": 24,
     "metadata": {},
     "output_type": "execute_result"
    }
   ],
   "source": [
    "getFarthestMatchLevel(\"for i in range(100):\", rules)"
   ]
  },
  {
   "cell_type": "code",
   "execution_count": 151,
   "metadata": {},
   "outputs": [],
   "source": [
    "def accuracy_table(models, dataset):\n",
    "    d = {}\n",
    "    for m1 in models:\n",
    "        for m2 in models:\n",
    "            (encoder, _, _, _, _), (_, decoder, alphabet, _, _) = m1, m2\n",
    "            d[(m1[0].name()+m1[3], m2[0].name()+m2[3])] = \\\n",
    "                len(list(filter(lambda x:x[0]==x[1],\n",
    "                                zip(dataset, decoder(encoder.encode_batch(dataset),alphabet))))) / len(dataset)\n",
    "    return d"
   ]
  },
  {
   "cell_type": "code",
   "execution_count": 172,
   "metadata": {},
   "outputs": [
    {
     "data": {
      "text/plain": [
       "{('FrequencyEncoder(5-gram, target_size:0.8)python',\n",
       "  'FrequencyEncoder(5-gram, target_size:0.8)python'): 0.66,\n",
       " ('FrequencyEncoder(5-gram, target_size:0.8)python',\n",
       "  'RulesBasedEncoderPython(whitespace=False)python'): 0.0,\n",
       " ('FrequencyEncoder(5-gram, target_size:0.8)python',\n",
       "  'UniformEncoder(0.70)python'): 0.14,\n",
       " ('FrequencyEncoder(5-gram, target_size:0.8)python',\n",
       "  'UniformEncoder(0.80)python'): 0.08,\n",
       " ('FrequencyEncoder(5-gram, target_size:0.8)python',\n",
       "  'UniformEncoder(0.90)python'): 0.01,\n",
       " ('FrequencyEncoder(5-gram, target_size:0.8)python',\n",
       "  'UniformFrequencyHybridEncoder(5-gram, target_size:0.8)python'): 0.43,\n",
       " ('RulesBasedEncoderPython(whitespace=False)python',\n",
       "  'FrequencyEncoder(5-gram, target_size:0.8)python'): 0.19,\n",
       " ('RulesBasedEncoderPython(whitespace=False)python',\n",
       "  'RulesBasedEncoderPython(whitespace=False)python'): 0.97,\n",
       " ('RulesBasedEncoderPython(whitespace=False)python',\n",
       "  'UniformEncoder(0.70)python'): 0.69,\n",
       " ('RulesBasedEncoderPython(whitespace=False)python',\n",
       "  'UniformEncoder(0.80)python'): 0.64,\n",
       " ('RulesBasedEncoderPython(whitespace=False)python',\n",
       "  'UniformEncoder(0.90)python'): 0.54,\n",
       " ('RulesBasedEncoderPython(whitespace=False)python',\n",
       "  'UniformFrequencyHybridEncoder(5-gram, target_size:0.8)python'): 0.62,\n",
       " ('UniformEncoder(0.70)python',\n",
       "  'FrequencyEncoder(5-gram, target_size:0.8)python'): 0.0,\n",
       " ('UniformEncoder(0.70)python',\n",
       "  'RulesBasedEncoderPython(whitespace=False)python'): 0.0,\n",
       " ('UniformEncoder(0.70)python', 'UniformEncoder(0.70)python'): 0.13,\n",
       " ('UniformEncoder(0.70)python', 'UniformEncoder(0.80)python'): 0.04,\n",
       " ('UniformEncoder(0.70)python', 'UniformEncoder(0.90)python'): 0.03,\n",
       " ('UniformEncoder(0.70)python',\n",
       "  'UniformFrequencyHybridEncoder(5-gram, target_size:0.8)python'): 0.08,\n",
       " ('UniformEncoder(0.80)python',\n",
       "  'FrequencyEncoder(5-gram, target_size:0.8)python'): 0.0,\n",
       " ('UniformEncoder(0.80)python',\n",
       "  'RulesBasedEncoderPython(whitespace=False)python'): 0.02,\n",
       " ('UniformEncoder(0.80)python', 'UniformEncoder(0.70)python'): 0.32,\n",
       " ('UniformEncoder(0.80)python', 'UniformEncoder(0.80)python'): 0.2,\n",
       " ('UniformEncoder(0.80)python', 'UniformEncoder(0.90)python'): 0.06,\n",
       " ('UniformEncoder(0.80)python',\n",
       "  'UniformFrequencyHybridEncoder(5-gram, target_size:0.8)python'): 0.13,\n",
       " ('UniformEncoder(0.90)python',\n",
       "  'FrequencyEncoder(5-gram, target_size:0.8)python'): 0.02,\n",
       " ('UniformEncoder(0.90)python',\n",
       "  'RulesBasedEncoderPython(whitespace=False)python'): 0.05,\n",
       " ('UniformEncoder(0.90)python', 'UniformEncoder(0.70)python'): 0.41,\n",
       " ('UniformEncoder(0.90)python', 'UniformEncoder(0.80)python'): 0.4,\n",
       " ('UniformEncoder(0.90)python', 'UniformEncoder(0.90)python'): 0.2,\n",
       " ('UniformEncoder(0.90)python',\n",
       "  'UniformFrequencyHybridEncoder(5-gram, target_size:0.8)python'): 0.32,\n",
       " ('UniformFrequencyHybridEncoder(5-gram, target_size:0.8)python',\n",
       "  'FrequencyEncoder(5-gram, target_size:0.8)python'): 0.65,\n",
       " ('UniformFrequencyHybridEncoder(5-gram, target_size:0.8)python',\n",
       "  'RulesBasedEncoderPython(whitespace=False)python'): 0.0,\n",
       " ('UniformFrequencyHybridEncoder(5-gram, target_size:0.8)python',\n",
       "  'UniformEncoder(0.70)python'): 0.17,\n",
       " ('UniformFrequencyHybridEncoder(5-gram, target_size:0.8)python',\n",
       "  'UniformEncoder(0.80)python'): 0.21,\n",
       " ('UniformFrequencyHybridEncoder(5-gram, target_size:0.8)python',\n",
       "  'UniformEncoder(0.90)python'): 0.08,\n",
       " ('UniformFrequencyHybridEncoder(5-gram, target_size:0.8)python',\n",
       "  'UniformFrequencyHybridEncoder(5-gram, target_size:0.8)python'): 0.15}"
      ]
     },
     "execution_count": 172,
     "metadata": {},
     "output_type": "execute_result"
    }
   ],
   "source": [
    "accuracy_table(loaded_models,full_dataset['python']['test'][:100])"
   ]
  },
  {
   "cell_type": "code",
   "execution_count": 16,
   "metadata": {},
   "outputs": [
    {
     "data": {
      "text/plain": [
       "{('FrequencyEncoder(5-gram, target_size:0.8)python',\n",
       "  'FrequencyEncoder(5-gram, target_size:0.8)python'): 0.6075,\n",
       " ('FrequencyEncoder(5-gram, target_size:0.8)python',\n",
       "  'FrequencyEncoder(5-gram, target_size:0.9)python'): 0.1825,\n",
       " ('FrequencyEncoder(5-gram, target_size:0.8)python',\n",
       "  'UniformEncoder(0.80)python'): 0.12,\n",
       " ('FrequencyEncoder(5-gram, target_size:0.8)python',\n",
       "  'UniformEncoder(0.90)python'): 0.0075,\n",
       " ('FrequencyEncoder(5-gram, target_size:0.9)python',\n",
       "  'FrequencyEncoder(5-gram, target_size:0.8)python'): 0.6275,\n",
       " ('FrequencyEncoder(5-gram, target_size:0.9)python',\n",
       "  'FrequencyEncoder(5-gram, target_size:0.9)python'): 0.785,\n",
       " ('FrequencyEncoder(5-gram, target_size:0.9)python',\n",
       "  'UniformEncoder(0.80)python'): 0.2725,\n",
       " ('FrequencyEncoder(5-gram, target_size:0.9)python',\n",
       "  'UniformEncoder(0.90)python'): 0.02,\n",
       " ('UniformEncoder(0.80)python',\n",
       "  'FrequencyEncoder(5-gram, target_size:0.8)python'): 0.01,\n",
       " ('UniformEncoder(0.80)python',\n",
       "  'FrequencyEncoder(5-gram, target_size:0.9)python'): 0.0075,\n",
       " ('UniformEncoder(0.80)python', 'UniformEncoder(0.80)python'): 0.1525,\n",
       " ('UniformEncoder(0.80)python', 'UniformEncoder(0.90)python'): 0.07,\n",
       " ('UniformEncoder(0.90)python',\n",
       "  'FrequencyEncoder(5-gram, target_size:0.8)python'): 0.0425,\n",
       " ('UniformEncoder(0.90)python',\n",
       "  'FrequencyEncoder(5-gram, target_size:0.9)python'): 0.0375,\n",
       " ('UniformEncoder(0.90)python', 'UniformEncoder(0.80)python'): 0.4,\n",
       " ('UniformEncoder(0.90)python', 'UniformEncoder(0.90)python'): 0.1725}"
      ]
     },
     "execution_count": 16,
     "metadata": {},
     "output_type": "execute_result"
    }
   ],
   "source": [
    "accuracy_table([unif8,unif9,freq8,freq9],full_dataset['python']['test'][:400])"
   ]
  },
  {
   "cell_type": "code",
   "execution_count": 15,
   "metadata": {},
   "outputs": [],
   "source": [
    "def best_example(model, dataset):\n",
    "    correct = list(filter(lambda x: x[0]==x[2],\n",
    "                          batched_decode_all(model, dataset)))\n",
    "    correct_with_fxn = [(c[1],c[0],len(c[0])-len(c[1])) for c in correct]\n",
    "    return max(correct_with_fxn, key=lambda x: x[2])\n",
    "\n",
    "def worst_example(model, dataset):\n",
    "    incorrect = list(filter(lambda x: x[0]!=x[2],\n",
    "                          batched_decode_all(model, dataset)))\n",
    "    incorrect_with_fxn = [(c[1],c[0],len(c[0])-len(c[1])) for c in incorrect]\n",
    "    return min(incorrect_with_fxn, key=lambda x: x[2])\n"
   ]
  },
  {
   "cell_type": "code",
   "execution_count": 18,
   "metadata": {},
   "outputs": [
    {
     "name": "stdout",
     "output_type": "stream",
     "text": [
      "('selfvertilLyout= QtGu.QVBxLaout(selverticalLayoutWidget)', 'self.verticalLayout = QtGui.QVBoxLayout(self.verticalLayoutWidget)', 10)\n",
      "('urn type._new__(cls, nme, bases, attrs)', 'return type.__new__(cls, name, bases, attrs)', 5)\n",
      "('use User(uid=user.u_id(), el=user.el(), nickn=user.nickn())', 'user = User(uid=user.user_id(), email=user.email(), nickname=user.nickname())', 18)\n",
      "('auto_now_add=T, editable=F, n=F, blank=F)', 'auto_now_add=True, editable=False, null=False, blank=False)', 18)\n"
     ]
    }
   ],
   "source": [
    "print(best_example(unif8, full_dataset['python']['test'][:1000]))\n",
    "print(best_example(unif9, full_dataset['python']['test'][:1000]))\n",
    "print(best_example(freq8, full_dataset['python']['test'][:1000]))\n",
    "print(best_example(rules, full_dataset['python']['test'][:1000]))"
   ]
  },
  {
   "cell_type": "code",
   "execution_count": null,
   "metadata": {},
   "outputs": [],
   "source": []
  }
 ],
 "metadata": {
  "kernelspec": {
   "display_name": "Python 3.5",
   "language": "python",
   "name": "python3"
  },
  "language_info": {
   "codemirror_mode": {
    "name": "ipython",
    "version": 3
   },
   "file_extension": ".py",
   "mimetype": "text/x-python",
   "name": "python",
   "nbconvert_exporter": "python",
   "pygments_lexer": "ipython3",
   "version": "3.5.6"
  }
 },
 "nbformat": 4,
 "nbformat_minor": 2
}
