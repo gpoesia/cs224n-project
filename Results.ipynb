{
 "cells": [
  {
   "cell_type": "markdown",
   "metadata": {},
   "source": [
    "# Result analysis"
   ]
  },
  {
   "cell_type": "code",
   "execution_count": 35,
   "metadata": {},
   "outputs": [
    {
     "name": "stdout",
     "output_type": "stream",
     "text": [
      "The autoreload extension is already loaded. To reload it, use:\n",
      "  %reload_ext autoreload\n"
     ]
    },
    {
     "data": {
      "text/plain": [
       "'1.4.0'"
      ]
     },
     "execution_count": 35,
     "metadata": {},
     "output_type": "execute_result"
    }
   ],
   "source": [
    "%matplotlib inline\n",
    "%load_ext autoreload\n",
    "%autoreload 2\n",
    "\n",
    "import json\n",
    "import baseline\n",
    "import numpy as np\n",
    "from baseline import *\n",
    "from decoder import *\n",
    "from alphabet import *\n",
    "from train import *\n",
    "import torch\n",
    "from matplotlib import pyplot as plt\n",
    "import collections\n",
    "\n",
    "torch.__version__"
   ]
  },
  {
   "cell_type": "markdown",
   "metadata": {},
   "source": [
    "### Dataset and language setup"
   ]
  },
  {
   "cell_type": "code",
   "execution_count": 73,
   "metadata": {},
   "outputs": [
    {
     "name": "stdout",
     "output_type": "stream",
     "text": [
      "602762 training examples, 80964 validation examples, 80789 test exampless\n",
      "616686 training examples, 82731 validation examples, 82543 test exampless\n",
      "565796 training examples, 77886 validation examples, 77884 test exampless\n"
     ]
    }
   ],
   "source": [
    "LANGUAGE = \"Python\"\n",
    "\n",
    "def filter_ascii(strings):\n",
    "    'Returns only the strings that can be encoded in ASCII.'\n",
    "    l = []\n",
    "    for s in strings:\n",
    "        try:\n",
    "            s.encode('ascii')\n",
    "            if 10 <= len(s) <= 80:\n",
    "                l.append(s)\n",
    "        except UnicodeEncodeError:\n",
    "            pass\n",
    "        \n",
    "    return list(set(l))\n",
    "\n",
    "def language_2_dataset(language='Python'):\n",
    "    with open('dataset/large.json') as f:\n",
    "        multilang_dataset = json.load(f)\n",
    "        dataset = multilang_dataset[language]\n",
    "\n",
    "        dataset['train'] = filter_ascii(dataset['train'])\n",
    "        dataset['dev'] = filter_ascii(dataset['dev'])\n",
    "        dataset['test'] = filter_ascii(dataset['test'])\n",
    "        print('{} training examples, {} validation examples, {} test exampless'.format(\n",
    "            len(dataset['train']), \n",
    "            len(dataset['dev']),\n",
    "            len(dataset['test'])))\n",
    "        return dataset\n",
    "    \n",
    "full_dataset = {\n",
    "    \"python\": language_2_dataset(\"Python\"),\n",
    "    \"haskell\": language_2_dataset(\"Haskell\"),\n",
    "    \"java\": language_2_dataset(\"Java\"),\n",
    "}"
   ]
  },
  {
   "cell_type": "markdown",
   "metadata": {},
   "source": [
    "## Models we ran"
   ]
  },
  {
   "cell_type": "code",
   "execution_count": 63,
   "metadata": {},
   "outputs": [
    {
     "name": "stdout",
     "output_type": "stream",
     "text": [
      "602762 training examples, 80964 validation examples, 80789 test exampless\n",
      "565796 training examples, 77886 validation examples, 77884 test exampless\n",
      "616686 training examples, 82731 validation examples, 82543 test exampless\n"
     ]
    }
   ],
   "source": [
    "python_dat = full_dataset[\"python\"]\n",
    "java_dat = full_dataset[\"java\"]\n",
    "haskell_dat = full_dataset[\"haskell\"]\n",
    "\n",
    "models = [\n",
    "    (UniformEncoder(removal_probability=.8),.0005, python_dat, 'python'), \n",
    "    (RulesBasedEncoder(), .0001, python_dat, 'python'),\n",
    "    (UniformEncoder(removal_probability=.9) , .0001, python_dat, 'python'), \n",
    "    (FrequencyEncoder(dataset=python_dat['train'], compression_rate=.8, n_gram=5), .0005, python_dat, 'python'), \n",
    "    (FrequencyEncoder(dataset=python_dat['train'], compression_rate=.9, n_gram=5), .0005, python_dat, 'python'), \n",
    "    \n",
    "    (FrequencyEncoderConstantDrop(dataset=python_dat['train'], num_chars=5, n_gram=5), .0005, python_dat, 'python'),\n",
    "    (FrequencyEncoderConstantDrop(java_dat['train'], num_chars=5, n_gram=5), .0005, java_dat, 'java'),\n",
    "    (FrequencyEncoderConstantDrop(haskell_dat['train'], num_chars=5, n_gram=5), .0005, haskell_dat, 'haskell'),\n",
    "    (UniformEncoderConstantDrop(num_chars=5), .0005, python_dat, 'python'),\n",
    "    (UniformEncoderConstantDrop(num_chars=5), .0005, java_dat, 'java'),\n",
    "    (UniformEncoderConstantDrop(num_chars=5), .0005, haskell_dat, 'haskell'),\n",
    "]"
   ]
  },
  {
   "cell_type": "code",
   "execution_count": 98,
   "metadata": {},
   "outputs": [
    {
     "name": "stdout",
     "output_type": "stream",
     "text": [
      "Model UniformEncoder(0.80) loaded!\n",
      "Model FrequencyEncoder(5-gram, target_size:0.9) loaded!\n",
      "Model FrequencyEncoderConstantDrop(5-gram, drop:5) loaded!\n",
      "3 model(s) loaded.\n"
     ]
    }
   ],
   "source": [
    "def load_model(model, is_baseline=True, load_best=False):\n",
    "    device = torch.device(0) if torch.cuda.is_available() else torch.device('cpu')\n",
    "    encoder, alpha, dataset, lang_name = model\n",
    "\n",
    "    if load_best:\n",
    "        # Load the best model saved during training.\n",
    "        filename = \"trained_models/{}_best_\".format(encoder.name())\n",
    "        loss_history_filename = \"trained_models/best_model_{}\".format(encoder.name())\n",
    "    else:\n",
    "        # Load the final model.\n",
    "        filename = \"trained_models/{}_{}_{}\".format(encoder.name(), alpha, lang_name)\n",
    "        loss_history_filename = \"trained_models/{}_{}_{}.json\".format(encoder.name(), alpha, lang_name)\n",
    "\n",
    "    alphabet = AsciiEmbeddedEncoding(device)\n",
    "    decoder = AutoCompleteDecoderModel(alphabet, hidden_size=512, copy=None)    \n",
    "    decoder.load_state_dict(torch.load(filename + \"decoder.model\"))\n",
    "    alphabet.load_state_dict(torch.load(filename + \"alphabet.model\"))\n",
    "    \n",
    "    decoder.to(device)\n",
    "    alphabet.to(device)\n",
    "    \n",
    "    if not is_baseline:\n",
    "        encoder.load_state_dict(torch.load(filename + \"encoder.model\"))\n",
    "\n",
    "    with open(loss_history_filename) as f:\n",
    "        j = json.load(f)\n",
    "        loss_history = j[\"losses\"]\n",
    "        \n",
    "    return (encoder, decoder, alphabet, lang_name, loss_history)\n",
    "\n",
    "loaded_models = []\n",
    "\n",
    "for m in models:\n",
    "    try:\n",
    "        loaded_models.append(load_model(m))\n",
    "        print('Model', m[0].name(), 'loaded!')\n",
    "    except Exception as e:\n",
    "        pass\n",
    "        \n",
    "print(len(loaded_models), 'model(s) loaded.')"
   ]
  },
  {
   "cell_type": "markdown",
   "metadata": {},
   "source": [
    "# Plot loss history"
   ]
  },
  {
   "cell_type": "code",
   "execution_count": 89,
   "metadata": {},
   "outputs": [
    {
     "data": {
      "image/png": "[encoded data removed]",
      "text/plain": [
       "<Figure size 432x288 with 1 Axes>"
      ]
     },
     "metadata": {
      "needs_background": "light"
     },
     "output_type": "display_data"
    },
    {
     "data": {
      "image/png": "[encoded data removed]",
      "text/plain": [
       "<Figure size 432x288 with 1 Axes>"
      ]
     },
     "metadata": {
      "needs_background": "light"
     },
     "output_type": "display_data"
    },
    {
     "data": {
      "image/png": "[encoded data removed]",
      "text/plain": [
       "<Figure size 432x288 with 1 Axes>"
      ]
     },
     "metadata": {
      "needs_background": "light"
     },
     "output_type": "display_data"
    }
   ],
   "source": [
    "for (encoder, decoder, alphabet, lang, loss_history) in loaded_models:\n",
    "    plt.title('{} {} loss history'.format(encoder.name(), lang))\n",
    "    plt.xlabel('Iterations')\n",
    "    plt.ylabel('Loss')\n",
    "    plt.plot(loss_history)\n",
    "    plt.show()"
   ]
  },
  {
   "cell_type": "markdown",
   "metadata": {},
   "source": [
    "\n",
    "# Metrics"
   ]
  },
  {
   "cell_type": "code",
   "execution_count": 109,
   "metadata": {},
   "outputs": [],
   "source": [
    "BATCH_SIZE = 128\n",
    "\n",
    "def reset_seeds():\n",
    "    # Set seed before computing accuracy to make the encoders deterministic.\n",
    "    np.random.seed(224)\n",
    "    random.seed(224)\n",
    "    torch.manual_seed(224)\n",
    "\n",
    "# TOOD: move these to a file\n",
    "def average(x): return sum(x)/len(x)\n",
    "\n",
    "def edit_distance(s1,s2):\n",
    "    if len(s1)==0: return len(s2)\n",
    "    if len(s2)==0: return len(s1)\n",
    "    if s1[0] == s2[0]: return edit_distance(s1[1:], s2[1:])\n",
    "    return 1 + min(edit_distance(s1[1:],s2),\n",
    "                   edit_distance(s1,s2[1:]),\n",
    "                   edit_distance(s1[1:],s2[1:]))\n",
    "\n",
    "def batched_decode_all(model, dataset):\n",
    "    reset_seeds()\n",
    "\n",
    "    (encoder, decoder, alphabet, _, _) = model\n",
    "    \n",
    "    encoded_strings = [encoder.encode(s) for s in dataset]\n",
    "    decoded = []    \n",
    "\n",
    "    for i in range((len(dataset) + BATCH_SIZE - 1) // BATCH_SIZE):\n",
    "        decoded.extend(decoder(encoded_strings[i*BATCH_SIZE:(i+1)*BATCH_SIZE], alphabet))\n",
    "\n",
    "    return list(zip(encoded_strings, decoded))\n",
    "    \n",
    "def top1accuracy(model, dataset):\n",
    "    examples = batched_decode_all(model, dataset)\n",
    "    \n",
    "    compression = sum(len(enc) for enc, dec in examples) / sum(len(s) for s in dataset)\n",
    "\n",
    "    return (sum([dataset[i] == examples[i][1] for i in range(len(dataset))]) / len(dataset),\n",
    "            compression)\n",
    "\n",
    "def top5accuracy(model, dataset, max_length=100):\n",
    "    (encoder, decoder, alphabet, _, _) = model\n",
    "    count = 0\n",
    "    for string in dataset:\n",
    "        compressed = encoder.encode(string)\n",
    "        best_five = list(map(lambda x:x[1][1:-1], \n",
    "                             decoder.beam_search(compressed, alphabet, beam_size=5, max_depth=max_length)))\n",
    "        if string in best_five: count += 1\n",
    "    return float(count) / len(dataset)\n",
    "\n",
    "def editAccuracy(dataset):\n",
    "    return average([\n",
    "        edit_distance(decoder(encoder.encode(s), alphabet), \n",
    "                      s)/len(s) for s in dataset])"
   ]
  },
  {
   "cell_type": "markdown",
   "metadata": {},
   "source": [
    "# Run evaluation"
   ]
  },
  {
   "cell_type": "code",
   "execution_count": 110,
   "metadata": {},
   "outputs": [
    {
     "name": "stdout",
     "output_type": "stream",
     "text": [
      "Testing UniformEncoder(0.80)\n",
      "dev compression rate: 0.7993000825105984\n",
      "dev top-1 accuracy: 0.188\n",
      "test compression rate: 0.7992984070389326\n",
      "test top-1 accuracy: 0.188\n",
      "Testing FrequencyEncoder(5-gram, target_size:0.9)\n",
      "dev compression rate: 0.8602725694938401\n",
      "dev top-1 accuracy: 0.771\n",
      "test compression rate: 0.8606015297026856\n",
      "test top-1 accuracy: 0.777\n",
      "Testing FrequencyEncoderConstantDrop(5-gram, drop:5)\n",
      "dev compression rate: 0.8278730850880716\n",
      "dev top-1 accuracy: 0.645\n",
      "test compression rate: 0.828021096078881\n",
      "test top-1 accuracy: 0.64\n"
     ]
    }
   ],
   "source": [
    "def evaluate(model, split):\n",
    "    (encoder, decoder, alphabet, language, _) = model\n",
    "    dataset = full_dataset[language][split][:1000]\n",
    "    top1_acc = top1accuracy(model, dataset)\n",
    "    return top1_acc\n",
    "\n",
    "for model in loaded_models:\n",
    "    print('Testing', model[0].name())\n",
    "\n",
    "    for split in ['dev', 'test']:\n",
    "        top1_acc, compression = evaluate(model, split)\n",
    "        print(split, 'compression rate:', compression)\n",
    "        print(split, 'top-1 accuracy:', top1_acc)"
   ]
  }
 ],
 "metadata": {
  "kernelspec": {
   "display_name": "Python 3.5",
   "language": "python",
   "name": "python3"
  },
  "language_info": {
   "codemirror_mode": {
    "name": "ipython",
    "version": 3
   },
   "file_extension": ".py",
   "mimetype": "text/x-python",
   "name": "python",
   "nbconvert_exporter": "python",
   "pygments_lexer": "ipython3",
   "version": "3.5.6"
  }
 },
 "nbformat": 4,
 "nbformat_minor": 2
}
