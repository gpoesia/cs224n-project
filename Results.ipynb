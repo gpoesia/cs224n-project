{
 "cells": [
  {
   "cell_type": "markdown",
   "metadata": {},
   "source": [
    "# Result analysis"
   ]
  },
  {
   "cell_type": "code",
   "execution_count": 5,
   "metadata": {},
   "outputs": [
    {
     "name": "stdout",
     "output_type": "stream",
     "text": [
      "The autoreload extension is already loaded. To reload it, use:\n",
      "  %reload_ext autoreload\n"
     ]
    },
    {
     "data": {
      "text/plain": [
       "'1.4.0'"
      ]
     },
     "execution_count": 5,
     "metadata": {},
     "output_type": "execute_result"
    }
   ],
   "source": [
    "%matplotlib inline\n",
    "%load_ext autoreload\n",
    "%autoreload 2\n",
    "\n",
    "import json\n",
    "import baseline\n",
    "import numpy as np\n",
    "from baseline import *\n",
    "from decoder import *\n",
    "from alphabet import *\n",
    "from train import *\n",
    "import pandas\n",
    "import numpy as np\n",
    "import torch\n",
    "from matplotlib import pyplot as plt\n",
    "import collections\n",
    "import editdistance\n",
    "\n",
    "\n",
    "torch.__version__"
   ]
  },
  {
   "cell_type": "markdown",
   "metadata": {},
   "source": [
    "### Dataset and language setup"
   ]
  },
  {
   "cell_type": "code",
   "execution_count": 6,
   "metadata": {},
   "outputs": [
    {
     "name": "stdout",
     "output_type": "stream",
     "text": [
      "602762 training examples, 80964 validation examples, 80789 test exampless\n",
      "616686 training examples, 82731 validation examples, 82543 test exampless\n",
      "565796 training examples, 77886 validation examples, 77884 test exampless\n"
     ]
    }
   ],
   "source": [
    "LANGUAGE = \"Python\"\n",
    "\n",
    "def filter_ascii(strings):\n",
    "    'Returns only the strings that can be encoded in ASCII.'\n",
    "    l = []\n",
    "    for s in strings:\n",
    "        try:\n",
    "            s.encode('ascii')\n",
    "            if 10 <= len(s) <= 80:\n",
    "                l.append(s)\n",
    "        except UnicodeEncodeError:\n",
    "            pass\n",
    "\n",
    "    return list(set(l))\n",
    "\n",
    "def language_2_dataset(language='Python'):\n",
    "    with open('dataset/large.json') as f:\n",
    "        multilang_dataset = json.load(f)\n",
    "        dataset = multilang_dataset[language]\n",
    "\n",
    "        dataset['train'] = filter_ascii(dataset['train'])\n",
    "        dataset['dev'] = filter_ascii(dataset['dev'])\n",
    "        dataset['test'] = filter_ascii(dataset['test'])\n",
    "        print('{} training examples, {} validation examples, {} test exampless'.format(\n",
    "            len(dataset['train']), \n",
    "            len(dataset['dev']),\n",
    "            len(dataset['test'])))\n",
    "        return dataset\n",
    "    \n",
    "full_dataset = {\n",
    "    \"python\": language_2_dataset(\"Python\"),\n",
    "    \"haskell\": language_2_dataset(\"Haskell\"),\n",
    "    \"java\": language_2_dataset(\"Java\"),\n",
    "}"
   ]
  },
  {
   "cell_type": "markdown",
   "metadata": {},
   "source": [
    "## Models we ran"
   ]
  },
  {
   "cell_type": "code",
   "execution_count": 7,
   "metadata": {},
   "outputs": [],
   "source": [
    "python_dat = full_dataset[\"python\"]\n",
    "java_dat = full_dataset[\"java\"]\n",
    "haskell_dat = full_dataset[\"haskell\"]"
   ]
  },
  {
   "cell_type": "code",
   "execution_count": 8,
   "metadata": {},
   "outputs": [],
   "source": [
    "\"\"\"\n",
    "models = [\n",
    "    (UniformEncoder(removal_probability=.6),.0005, python_dat, 'python'),\n",
    "    (UniformEncoder(removal_probability=.7),.0005, python_dat, 'python'), \n",
    "    (UniformEncoder(removal_probability=.8),.0005, python_dat, 'python'), \n",
    "    (UniformEncoder(removal_probability=.9),.0001, python_dat, 'python'), \n",
    "    (RulesBasedEncoder(), .0001, python_dat, 'python'),\n",
    "    (FrequencyEncoder(dataset=python_dat['train'], compression_rate=.8, n_gram=5), .0005, python_dat, 'python'), \n",
    "    (FrequencyEncoder(dataset=python_dat['train'], compression_rate=.9, n_gram=5), .0005, python_dat, 'python'), \n",
    "    (NonDeterministicFrequencyEncoder(dataset=python_dat['train'], compression_rate=.7, n_gram=5), .0005, python_dat, 'python'),\n",
    "    (FuzzyFrequencyEncoder(dataset=python_dat['train'], compression_rate=.7, n_gram=5), .0005, python_dat, 'python'),\n",
    "    (FuzzyFrequencyEncoder(dataset=python_dat['train'], compression_rate=.8, n_gram=5), .0005, python_dat, 'python'),\n",
    "    (UniformFrequencyHybridEncoder(dataset=python_dat['train'], compression_rate=.8, n_gram=5, removal_probability=0.8), .0005, python_dat, 'python'),\n",
    "    (FrequencyEncoderConstantDrop(dataset=python_dat['train'], num_chars=5, n_gram=5), .0005, python_dat, 'python'),\n",
    "    (FrequencyEncoderConstantDrop(java_dat['train'], num_chars=5, n_gram=5), .0005, java_dat, 'java'),\n",
    "    (FrequencyEncoderConstantDrop(haskell_dat['train'], num_chars=5, n_gram=5), .0005, haskell_dat, 'haskell'),\n",
    "    (UniformEncoderConstantDrop(num_chars=5), .0005, python_dat, 'python'),\n",
    "    (UniformEncoderConstantDrop(num_chars=5), .0005, java_dat, 'java'),\n",
    "    (UniformEncoderConstantDrop(num_chars=5), .0005, haskell_dat, 'haskell')\n",
    "    (CurriculumUniformEncoder(removal_probability=.63),.0005, python_dat, 'python'\n",
    "    ]\n",
    "\"\"\"\n",
    "models = [\n",
    "    #(UniformEncoderConstantDrop(num_chars=5), .0005, python_dat, 'python'),\n",
    "    #(UniformEncoderConstantDrop(num_chars=5), .0005, java_dat, 'java'),\n",
    "    #(UniformEncoderConstantDrop(num_chars=5), .0005, haskell_dat, 'haskell')\n",
    "    #(FuzzyFrequencyEncoder(dataset=python_dat['train'], compression_rate=.7, n_gram=5), .0005, python_dat, 'python'),\n",
    "    #(FuzzyFrequencyEncoder(dataset=python_dat['train'], compression_rate=.8, n_gram=5), .0005, python_dat, 'python'),\n",
    "    (RulesBasedEncoder(), .0001, python_dat, 'python'),\n",
    "    #(UniformEncoder(removal_probability=.6),.0005, python_dat, 'python'), \n",
    "    #(UniformEncoder(removal_probability=.7),.0005, python_dat, 'python'),\n",
    "    (UniformEncoder(removal_probability=.8),.0005, python_dat, 'python'),\n",
    "    #(UniformEncoder(removal_probability=.9),.0001, python_dat, 'python'),\n",
    "    (FrequencyEncoder(dataset=python_dat['train'], compression_rate=.8, n_gram=5), .0005, python_dat, 'python'),\n",
    "    (FuzzyFrequencyEncoder(dataset=python_dat['train'], compression_rate=.8, n_gram=5), .0005, python_dat, 'python'),\n",
    "    #(CurriculumUniformEncoder(removal_probability=.63),.0005, python_dat, 'python')    \n",
    "]"
   ]
  },
  {
   "cell_type": "code",
   "execution_count": 9,
   "metadata": {},
   "outputs": [
    {
     "name": "stdout",
     "output_type": "stream",
     "text": [
      "Model RulesBasedEncoderPython(whitespace=False) python loaded!\n",
      "Model UniformEncoder(0.80) python loaded!\n",
      "Model FrequencyEncoder(5-gram, target_size:0.8) python loaded!\n",
      "Model FuzzyFrequencyEncoder(5-gram, target_size:0.8) python loaded!\n",
      "4 model(s) loaded.\n"
     ]
    }
   ],
   "source": [
    "def load_model(model, is_baseline=True, load_best=False):\n",
    "    device = torch.device(0) if torch.cuda.is_available() else torch.device('cpu')\n",
    "    encoder, alpha, dataset, lang_name = model\n",
    "\n",
    "    if load_best:\n",
    "        # Load the best model saved during training.\n",
    "        filename = \"trained_models/{}_best_\".format(encoder.name())\n",
    "        loss_history_filename = \"trained_models/best_model_{}\".format(encoder.name())\n",
    "    else:\n",
    "        # Load the final model.\n",
    "        filename = \"trained_models/{}_{}_{}\".format(encoder.name(), alpha, lang_name)\n",
    "        loss_history_filename = \"trained_models/{}_{}_{}.json\".format(encoder.name(), alpha, lang_name)\n",
    "\n",
    "    alphabet = AsciiEmbeddedEncoding(device)\n",
    "    decoder = AutoCompleteDecoderModel(alphabet, hidden_size=512, copy=None)    \n",
    "    decoder.load_state_dict(torch.load(filename + \"decoder.model\"))\n",
    "    alphabet.load_state_dict(torch.load(filename + \"alphabet.model\"))\n",
    "    \n",
    "    decoder.to(device)\n",
    "    alphabet.to(device)\n",
    "    \n",
    "    if not is_baseline:\n",
    "        encoder.load_state_dict(torch.load(filename + \"encoder.model\"))\n",
    "\n",
    "    with open(loss_history_filename) as f:\n",
    "        j = json.load(f)\n",
    "        loss_history = j[\"losses\"]\n",
    "        \n",
    "    return (encoder, decoder, alphabet, lang_name, loss_history)\n",
    "\n",
    "loaded_models = []\n",
    "\n",
    "for m in models:\n",
    "    try:\n",
    "        loaded_models.append(load_model(m))\n",
    "        print('Model', m[0].name(), m[3], 'loaded!')\n",
    "    except Exception as e:\n",
    "        print(e)\n",
    "        pass\n",
    "        \n",
    "print(len(loaded_models), 'model(s) loaded.')"
   ]
  },
  {
   "cell_type": "markdown",
   "metadata": {},
   "source": [
    "# Plot loss history"
   ]
  },
  {
   "cell_type": "code",
   "execution_count": 10,
   "metadata": {},
   "outputs": [
    {
     "data": {
      "image/png": "[encoded data removed]",
      "text/plain": [
       "<Figure size 432x288 with 1 Axes>"
      ]
     },
     "metadata": {
      "needs_background": "light"
     },
     "output_type": "display_data"
    },
    {
     "data": {
      "image/png": "[encoded data removed]",
      "text/plain": [
       "<Figure size 432x288 with 1 Axes>"
      ]
     },
     "metadata": {
      "needs_background": "light"
     },
     "output_type": "display_data"
    },
    {
     "data": {
      "image/png": "[encoded data removed]",
      "text/plain": [
       "<Figure size 432x288 with 1 Axes>"
      ]
     },
     "metadata": {
      "needs_background": "light"
     },
     "output_type": "display_data"
    },
    {
     "data": {
      "image/png": "[encoded data removed]",
      "text/plain": [
       "<Figure size 432x288 with 1 Axes>"
      ]
     },
     "metadata": {
      "needs_background": "light"
     },
     "output_type": "display_data"
    }
   ],
   "source": [
    "for (encoder, decoder, alphabet, lang, loss_history) in loaded_models:\n",
    "    plt.title('{} {} loss history'.format(encoder.name(), lang))\n",
    "    plt.xlabel('Iterations')\n",
    "    plt.ylabel('Loss')\n",
    "    plt.plot(loss_history)\n",
    "    plt.show()"
   ]
  },
  {
   "cell_type": "markdown",
   "metadata": {},
   "source": [
    "\n",
    "# Metrics"
   ]
  },
  {
   "cell_type": "code",
   "execution_count": 11,
   "metadata": {},
   "outputs": [],
   "source": [
    "BATCH_SIZE = 128\n",
    "\n",
    "def reset_seeds():\n",
    "    # Set seed before computing accuracy to make the encoders deterministic.\n",
    "    np.random.seed(224)\n",
    "    random.seed(224)\n",
    "    torch.manual_seed(224)\n",
    "\n",
    "# TOOD: move these to a file\n",
    "def edit_distance(s1,s2):\n",
    "    if len(s1)==0: return len(s2)\n",
    "    if len(s2)==0: return len(s1)\n",
    "    if s1[0] == s2[0]: return edit_distance(s1[1:], s2[1:])\n",
    "    return 1 + min(edit_distance(s1[1:],s2),\n",
    "                   edit_distance(s1,s2[1:]),\n",
    "                   edit_distance(s1[1:],s2[1:]))\n",
    "\n",
    "def batched_decode_all(model, dataset):\n",
    "    reset_seeds()\n",
    "\n",
    "    (encoder, decoder, alphabet, _, _) = model\n",
    "    \n",
    "    encoded_strings = [encoder.encode(s) for s in dataset]\n",
    "    decoded = []    \n",
    "\n",
    "    for i in range((len(dataset) + BATCH_SIZE - 1) // BATCH_SIZE):\n",
    "        decoded.extend(decoder(encoded_strings[i*BATCH_SIZE:(i+1)*BATCH_SIZE], alphabet))\n",
    "\n",
    "    return list(zip(dataset, encoded_strings, decoded))\n",
    "    \n",
    "def top1_accuracy(encoder, decoder, alphabet, dataset):\n",
    "    return len(list(filter(lambda x:x[0]==x[1],\n",
    "                          zip(dataset, decoder(encoder.encode_batch(dataset),alphabet))))) / len(dataset)\n",
    "\n",
    "def top5_accuracy(encoder, decoder, alphabet, dataset):\n",
    "    count = 0\n",
    "    for string in dataset:\n",
    "        compressed = encoder.encode(string)\n",
    "        best_five = beam_search_predictions(decoder, compressed, alphabet, beam_size=5)\n",
    "        if string in best_five: count += 1\n",
    "    return float(count) / len(dataset)\n",
    "\n",
    "def average(lst): return sum(lst)/len(lst)\n",
    "def edit_accuracy(encoder, decoder, alphabet, dataset):\n",
    "    return average([\n",
    "        1-(editdistance.eval(decoder(encoder.encode(s), alphabet), \n",
    "                      s)/len(s)) for s in dataset])\n"
   ]
  },
  {
   "cell_type": "markdown",
   "metadata": {},
   "source": [
    "# Run evaluation\n",
    "\n",
    "The functions below are filters to compute metrics in diffetent slices of the dataset"
   ]
  },
  {
   "cell_type": "code",
   "execution_count": 19,
   "metadata": {},
   "outputs": [],
   "source": [
    "def all_lines(string):\n",
    "    return True\n",
    "\n",
    "def short_lines(string):\n",
    "    return len(string) <= 25\n",
    "\n",
    "def long_lines(string):\n",
    "    return len(string) >= 65\n",
    "\n",
    "all_slices = {\n",
    "    'all_lines': all_lines,\n",
    "    'short_lines': short_lines,\n",
    "    'long_lines': long_lines,\n",
    "}"
   ]
  },
  {
   "cell_type": "code",
   "execution_count": 9,
   "metadata": {},
   "outputs": [
    {
     "name": "stdout",
     "output_type": "stream",
     "text": [
      "Testing UniformEncoderConstantDrop(5.00) python\n",
      "         test all_lines top-1 accuracy: 0.16\n",
      "         test short_lines top-1 accuracy: 0.14285714285714285\n",
      "         test long_lines top-1 accuracy: 0.0\n",
      "Testing UniformEncoderConstantDrop(5.00) java\n",
      "         test all_lines top-1 accuracy: 0.45\n",
      "         test short_lines top-1 accuracy: 0.2857142857142857\n",
      "         test long_lines top-1 accuracy: 0.5\n",
      "Testing UniformEncoderConstantDrop(5.00) haskell\n",
      "         test all_lines top-1 accuracy: 0.19\n",
      "         test short_lines top-1 accuracy: 0.11428571428571428\n",
      "         test long_lines top-1 accuracy: 0.18181818181818182\n"
     ]
    }
   ],
   "source": [
    "def evaluate(model, split, pred_filter=id):\n",
    "    (encoder, decoder, alphabet, language, _) = model\n",
    "    dataset = full_dataset[language][split][:100]\n",
    "    dataset = list(filter(pred_filter, dataset))\n",
    "    #examples = batched_decode_all(model, dataset)\n",
    "    #examples = [(o, e, d) for (o, e, d) in examples if pred_filter(o, e)]\n",
    "    #compression = sum(len(enc) for orig, enc, dec in examples) / sum(len(o) for (o, e, d) in examples)\n",
    "    top1_acc = top1_accuracy(encoder, decoder, alphabet, dataset)\n",
    "    return top1_acc#, compression\n",
    "\n",
    "for model in loaded_models:\n",
    "    print('Testing', model[0].name(), model[3])\n",
    "    for split in ['test']:\n",
    "        for slice_name, predicate in all_slices.items():\n",
    "            top1_acc = evaluate(model, split, predicate)\n",
    "            #, 'compression rate: {:.3f}'.format(compression)\n",
    "            print(' ' * 8, split, slice_name, 'top-1 accuracy:', top1_acc)"
   ]
  },
  {
   "cell_type": "markdown",
   "metadata": {},
   "source": [
    "### Ideas\n",
    " Just consider UniformEncoder, RulesBasedEncoder, FrequencyEncoder in python first\n",
    " Figure out if rules are reconstructed by uniform or frequency\n",
    "  ^Are uniform and frequency supersets of rules^\n",
    " is beam search doing the right thing?\n",
    " Seems to have a lack of predictions that terminate\n",
    "  Maybe should accept a sentence as soon as the beam search yields an end\n",
    "    as opposed to reconsidering after every next layer of beam search\n",
    "    Can beam search be written outside of the class to prevent need for rerun?\n",
    "  "
   ]
  },
  {
   "cell_type": "code",
   "execution_count": null,
   "metadata": {},
   "outputs": [],
   "source": [
    "full_dataset['python']['dev'][1:5]"
   ]
  },
  {
   "cell_type": "code",
   "execution_count": null,
   "metadata": {},
   "outputs": [],
   "source": [
    "for a in loaded_models:\n",
    "    print(a[0],a[3])\n",
    "    print(a[1]([\"for\"],a[2]))\n",
    "# does frequence learn the rules"
   ]
  },
  {
   "cell_type": "code",
   "execution_count": null,
   "metadata": {},
   "outputs": [],
   "source": [
    "def run_models_on_string(string, models,beam=False):\n",
    "    for model in models:\n",
    "        (encoder, decoder, alphabet, language, _) = model\n",
    "        print(encoder, \"\\n\", decoder([string], alphabet)[0],\"\\n\") \n",
    "        if beam:\n",
    "            print(beam_search_predictions(decoder, string, alphabet, beam_size=2),\"\\n\")\n",
    "\n",
    "run_models_on_string(\"for i in rng(10):\", loaded_models)\n",
    "run_models_on_string(\"for i in rg(10):\", loaded_models)"
   ]
  },
  {
   "cell_type": "code",
   "execution_count": 43,
   "metadata": {},
   "outputs": [
    {
     "name": "stdout",
     "output_type": "stream",
     "text": [
      "['FE30', 'FE4F', 'CJK Compatibility Forms', [range(65072, 65104)]],\n",
      "return HttpResponse(\"Alright\")\n",
      "def pam_sm_close_session(pamh, flags, argv):\n",
      "0x0052: 0x0045,\n",
      "def correct(self, in_file, in_time): \n",
      "\n",
      "['FE30', 'FE4F, J ompatibilityFors', [rane(572, 654)]\n",
      "return HtpRespnse(\"Alrigh\")\n",
      "def pamsm_closesssion(pam, flags, argv):\n",
      "0x0052: 0x0045,\n",
      "def crrect(self, i_fie in_tme): \n",
      "\n",
      "['FE30', 'FE4F, J ompatibilityFors', [range(572, 654)]\n",
      "return HttpRespanse(\"Alrigh\")\n",
      "def pamsm_closession(parm, flags, argv):\n",
      "0x0052: 0x0045,\n",
      "def crrect(self, i_file, in_tame):\n"
     ]
    }
   ],
   "source": [
    "(encoder, decoder, alphabet, language, _) = loaded_models[-1]\n",
    "dataset = full_dataset['python']['dev'][:5]\n",
    "print(\"\\n\".join(dataset),\"\\n\")\n",
    "encoded = encoder.encode_batch(dataset)\n",
    "print(\"\\n\".join(encoded),\"\\n\")\n",
    "print(\"\\n\".join(decoder(encoded,alphabet)))"
   ]
  },
  {
   "cell_type": "code",
   "execution_count": 44,
   "metadata": {},
   "outputs": [
    {
     "name": "stdout",
     "output_type": "stream",
     "text": [
      "ax23 = plt.subplot2grid((12,9), (4, 4))\n",
      "elif attr in self.ATTR_DATETIME:\n",
      "if Prefs[\"get_rating\"]:\n",
      "score2 += 1\n",
      "time = strftime(\"%d/%m/%Y %H:%M:%S\") \n",
      "\n",
      "2=t.ublt2gri(29),(4, 4))\n",
      "elifar  el.ATRDAEIME:\n",
      " Pr\"get_rng\":\n",
      "s2 1\n",
      "i= sme(\"%%/Y H:M:\") \n",
      "\n",
      "t2 = t.subplot(2.grid(29),(4, 4))\n",
      "elif arg == self.ATTRIDATE_IMAGE:\n",
      "if Parse(\"get_range\"):\n",
      "s2 = 1\n",
      "i = sum(replace(\"%(%s/Y %H:%M:%S\"))\n"
     ]
    }
   ],
   "source": [
    "(encoder, decoder, alphabet, language, _) = loaded_models[0]\n",
    "dataset = full_dataset['python']['dev'][5:10]\n",
    "print(\"\\n\".join(dataset),\"\\n\")\n",
    "encoded = encoder.encode_batch(dataset)\n",
    "print(\"\\n\".join(encoded),\"\\n\")\n",
    "print(\"\\n\".join(decoder(encoded,alphabet)))"
   ]
  },
  {
   "cell_type": "code",
   "execution_count": 45,
   "metadata": {},
   "outputs": [],
   "source": [
    "def succ(string):\n",
    "    return set([string[:i] + string[i+1:] for i in range(len(string))])\n",
    "    \n",
    "def getFarthestMatchLevel(in_string, model, max_match_level=None):\n",
    "    (encoder, decoder, alphabet, language, _) = model\n",
    "    if in_string != decoder([in_string], alphabet)[0]: return 0\n",
    "    candidates = [in_string]\n",
    "    considered_strings = set([in_string])\n",
    "    min_length_string = in_string\n",
    "    num_at_level = {0:1}\n",
    "    level_count = 0\n",
    "    while candidates:\n",
    "        candidate = candidates.pop()\n",
    "        if len(candidate) < len(min_length_string):\n",
    "            num_at_level[len(in_string) - len(min_length_string)] = level_count\n",
    "            print(\"count at level\", len(in_string) - len(min_length_string), \":\", level_count, \"\\n\")\n",
    "            if max_match_level and max_match_level == len(in_string) - len(min_length_string):\n",
    "                break\n",
    "            min_length_string = candidate\n",
    "            level_count = 0\n",
    "            print(min_length_string, len(in_string) - len(min_length_string))\n",
    "        level_count += 1\n",
    "        potential_next_candidates = list(succ(candidate) - considered_strings)\n",
    "        next_candidate_indices = list(map(lambda x:x[0],\n",
    "                                          filter(lambda x:x[1]==in_string, \n",
    "                                              enumerate(decoder(potential_next_candidates, alphabet)))))\n",
    "        next_candidates = [potential_next_candidates[i] for i in next_candidate_indices]\n",
    "        candidates=next_candidates+candidates\n",
    "        #if len(next_candidates)>0:\n",
    "        #    print(next_candidates[0], len(in_string) - len(next_candidates[0]))\n",
    "        considered_strings = considered_strings.union(set(next_candidates))\n",
    "    return (len(min_length_string), min_length_string, num_at_level)\n",
    "        \n"
   ]
  },
  {
   "cell_type": "code",
   "execution_count": null,
   "metadata": {},
   "outputs": [],
   "source": [
    "getFarthestMatchLevel(\"for i in range(100):\", loaded_models[0])"
   ]
  },
  {
   "cell_type": "code",
   "execution_count": 12,
   "metadata": {},
   "outputs": [],
   "source": [
    "\n",
    "def models_to_name(m1,m2):\n",
    "    return str((m1[0].name()+m1[3], m2[0].name()+m2[3]))\n",
    "\n",
    "def models_to_accuracy(m1,m2,dataset,accuracy_metric):\n",
    "    (encoder, _, _, _, _), (_, decoder, alphabet, _, _) = m1, m2\n",
    "    return accuracy_metric(encoder, decoder, alphabet, dataset)\n",
    "\n",
    "def accuracy_table(models, dataset, accuracy_metric=top1_accuracy):\n",
    "    d = {}\n",
    "    for m1 in models:\n",
    "        for m2 in models:\n",
    "            d[models_to_name(m1,m2)] = \\\n",
    "                models_to_accuracy(m1,m2,dataset,accuracy_metric) \n",
    "    return d\n",
    "    \n",
    "def visual_accuracy_table(models, dataset, accuracy_metric=top1_accuracy):\n",
    "    return pandas.DataFrame(\n",
    "            np.array([[models_to_accuracy(m1,m2,dataset,accuracy_metric) for m2 in models]\n",
    "                      for m1 in models]), \n",
    "            columns = [m[0].name()+m[3] for m in models],\n",
    "            index = [m[0].name()+m[3] for m in models])"
   ]
  },
  {
   "cell_type": "code",
   "execution_count": null,
   "metadata": {},
   "outputs": [],
   "source": [
    "visual_accuracy_table(loaded_models,full_dataset['python']['test'][:600], top1_accuracy)"
   ]
  },
  {
   "cell_type": "code",
   "execution_count": 13,
   "metadata": {},
   "outputs": [
    {
     "data": {
      "text/html": [
       "<div>\n",
       "<style scoped>\n",
       "    .dataframe tbody tr th:only-of-type {\n",
       "        vertical-align: middle;\n",
       "    }\n",
       "\n",
       "    .dataframe tbody tr th {\n",
       "        vertical-align: top;\n",
       "    }\n",
       "\n",
       "    .dataframe thead th {\n",
       "        text-align: right;\n",
       "    }\n",
       "</style>\n",
       "<table border=\"1\" class=\"dataframe\">\n",
       "  <thead>\n",
       "    <tr style=\"text-align: right;\">\n",
       "      <th></th>\n",
       "      <th>RulesBasedEncoderPython(whitespace=False)python</th>\n",
       "      <th>UniformEncoder(0.80)python</th>\n",
       "      <th>FrequencyEncoder(5-gram, target_size:0.8)python</th>\n",
       "      <th>FuzzyFrequencyEncoder(5-gram, target_size:0.8)python</th>\n",
       "    </tr>\n",
       "  </thead>\n",
       "  <tbody>\n",
       "    <tr>\n",
       "      <th>RulesBasedEncoderPython(whitespace=False)python</th>\n",
       "      <td>0.99</td>\n",
       "      <td>0.79</td>\n",
       "      <td>0.41</td>\n",
       "      <td>0.37</td>\n",
       "    </tr>\n",
       "    <tr>\n",
       "      <th>UniformEncoder(0.80)python</th>\n",
       "      <td>0.00</td>\n",
       "      <td>0.43</td>\n",
       "      <td>0.00</td>\n",
       "      <td>0.19</td>\n",
       "    </tr>\n",
       "    <tr>\n",
       "      <th>FrequencyEncoder(5-gram, target_size:0.8)python</th>\n",
       "      <td>0.01</td>\n",
       "      <td>0.29</td>\n",
       "      <td>0.82</td>\n",
       "      <td>0.13</td>\n",
       "    </tr>\n",
       "    <tr>\n",
       "      <th>FuzzyFrequencyEncoder(5-gram, target_size:0.8)python</th>\n",
       "      <td>0.00</td>\n",
       "      <td>0.02</td>\n",
       "      <td>0.00</td>\n",
       "      <td>0.48</td>\n",
       "    </tr>\n",
       "  </tbody>\n",
       "</table>\n",
       "</div>"
      ],
      "text/plain": [
       "                                                    RulesBasedEncoderPython(whitespace=False)python  \\\n",
       "RulesBasedEncoderPython(whitespace=False)python                                                0.99   \n",
       "UniformEncoder(0.80)python                                                                     0.00   \n",
       "FrequencyEncoder(5-gram, target_size:0.8)python                                                0.01   \n",
       "FuzzyFrequencyEncoder(5-gram, target_size:0.8)p...                                             0.00   \n",
       "\n",
       "                                                    UniformEncoder(0.80)python  \\\n",
       "RulesBasedEncoderPython(whitespace=False)python                           0.79   \n",
       "UniformEncoder(0.80)python                                                0.43   \n",
       "FrequencyEncoder(5-gram, target_size:0.8)python                           0.29   \n",
       "FuzzyFrequencyEncoder(5-gram, target_size:0.8)p...                        0.02   \n",
       "\n",
       "                                                    FrequencyEncoder(5-gram, target_size:0.8)python  \\\n",
       "RulesBasedEncoderPython(whitespace=False)python                                                0.41   \n",
       "UniformEncoder(0.80)python                                                                     0.00   \n",
       "FrequencyEncoder(5-gram, target_size:0.8)python                                                0.82   \n",
       "FuzzyFrequencyEncoder(5-gram, target_size:0.8)p...                                             0.00   \n",
       "\n",
       "                                                    FuzzyFrequencyEncoder(5-gram, target_size:0.8)python  \n",
       "RulesBasedEncoderPython(whitespace=False)python                                                  0.37     \n",
       "UniformEncoder(0.80)python                                                                       0.19     \n",
       "FrequencyEncoder(5-gram, target_size:0.8)python                                                  0.13     \n",
       "FuzzyFrequencyEncoder(5-gram, target_size:0.8)p...                                               0.48     "
      ]
     },
     "execution_count": 13,
     "metadata": {},
     "output_type": "execute_result"
    }
   ],
   "source": [
    "visual_accuracy_table(loaded_models,full_dataset['python']['test'][:100], top5_accuracy)"
   ]
  },
  {
   "cell_type": "code",
   "execution_count": 9,
   "metadata": {
    "scrolled": true
   },
   "outputs": [
    {
     "data": {
      "text/html": [
       "<div>\n",
       "<style scoped>\n",
       "    .dataframe tbody tr th:only-of-type {\n",
       "        vertical-align: middle;\n",
       "    }\n",
       "\n",
       "    .dataframe tbody tr th {\n",
       "        vertical-align: top;\n",
       "    }\n",
       "\n",
       "    .dataframe thead th {\n",
       "        text-align: right;\n",
       "    }\n",
       "</style>\n",
       "<table border=\"1\" class=\"dataframe\">\n",
       "  <thead>\n",
       "    <tr style=\"text-align: right;\">\n",
       "      <th></th>\n",
       "      <th>UniformEncoder(0.60)python</th>\n",
       "      <th>UniformEncoder(0.70)python</th>\n",
       "      <th>UniformEncoder(0.80)python</th>\n",
       "      <th>UniformEncoder(0.90)python</th>\n",
       "    </tr>\n",
       "  </thead>\n",
       "  <tbody>\n",
       "    <tr>\n",
       "      <th>UniformEncoder(0.60)python</th>\n",
       "      <td>0.035000</td>\n",
       "      <td>0.030000</td>\n",
       "      <td>0.036667</td>\n",
       "      <td>0.003333</td>\n",
       "    </tr>\n",
       "    <tr>\n",
       "      <th>UniformEncoder(0.70)python</th>\n",
       "      <td>0.081667</td>\n",
       "      <td>0.101667</td>\n",
       "      <td>0.096667</td>\n",
       "      <td>0.013333</td>\n",
       "    </tr>\n",
       "    <tr>\n",
       "      <th>UniformEncoder(0.80)python</th>\n",
       "      <td>0.151667</td>\n",
       "      <td>0.178333</td>\n",
       "      <td>0.220000</td>\n",
       "      <td>0.053333</td>\n",
       "    </tr>\n",
       "    <tr>\n",
       "      <th>UniformEncoder(0.90)python</th>\n",
       "      <td>0.291667</td>\n",
       "      <td>0.361667</td>\n",
       "      <td>0.383333</td>\n",
       "      <td>0.143333</td>\n",
       "    </tr>\n",
       "  </tbody>\n",
       "</table>\n",
       "</div>"
      ],
      "text/plain": [
       "                            UniformEncoder(0.60)python  \\\n",
       "UniformEncoder(0.60)python                    0.035000   \n",
       "UniformEncoder(0.70)python                    0.081667   \n",
       "UniformEncoder(0.80)python                    0.151667   \n",
       "UniformEncoder(0.90)python                    0.291667   \n",
       "\n",
       "                            UniformEncoder(0.70)python  \\\n",
       "UniformEncoder(0.60)python                    0.030000   \n",
       "UniformEncoder(0.70)python                    0.101667   \n",
       "UniformEncoder(0.80)python                    0.178333   \n",
       "UniformEncoder(0.90)python                    0.361667   \n",
       "\n",
       "                            UniformEncoder(0.80)python  \\\n",
       "UniformEncoder(0.60)python                    0.036667   \n",
       "UniformEncoder(0.70)python                    0.096667   \n",
       "UniformEncoder(0.80)python                    0.220000   \n",
       "UniformEncoder(0.90)python                    0.383333   \n",
       "\n",
       "                            UniformEncoder(0.90)python  \n",
       "UniformEncoder(0.60)python                    0.003333  \n",
       "UniformEncoder(0.70)python                    0.013333  \n",
       "UniformEncoder(0.80)python                    0.053333  \n",
       "UniformEncoder(0.90)python                    0.143333  "
      ]
     },
     "execution_count": 9,
     "metadata": {},
     "output_type": "execute_result"
    }
   ],
   "source": [
    "visual_accuracy_table(loaded_models,full_dataset['python']['test'][:600], top1_accuracy)"
   ]
  },
  {
   "cell_type": "code",
   "execution_count": 11,
   "metadata": {},
   "outputs": [
    {
     "data": {
      "text/html": [
       "<div>\n",
       "<style scoped>\n",
       "    .dataframe tbody tr th:only-of-type {\n",
       "        vertical-align: middle;\n",
       "    }\n",
       "\n",
       "    .dataframe tbody tr th {\n",
       "        vertical-align: top;\n",
       "    }\n",
       "\n",
       "    .dataframe thead th {\n",
       "        text-align: right;\n",
       "    }\n",
       "</style>\n",
       "<table border=\"1\" class=\"dataframe\">\n",
       "  <thead>\n",
       "    <tr style=\"text-align: right;\">\n",
       "      <th></th>\n",
       "      <th>UniformEncoder(0.60)python</th>\n",
       "      <th>UniformEncoder(0.70)python</th>\n",
       "      <th>UniformEncoder(0.80)python</th>\n",
       "      <th>UniformEncoder(0.90)python</th>\n",
       "    </tr>\n",
       "  </thead>\n",
       "  <tbody>\n",
       "    <tr>\n",
       "      <th>UniformEncoder(0.60)python</th>\n",
       "      <td>0.09</td>\n",
       "      <td>0.14</td>\n",
       "      <td>0.09</td>\n",
       "      <td>0.00</td>\n",
       "    </tr>\n",
       "    <tr>\n",
       "      <th>UniformEncoder(0.70)python</th>\n",
       "      <td>0.17</td>\n",
       "      <td>0.24</td>\n",
       "      <td>0.20</td>\n",
       "      <td>0.05</td>\n",
       "    </tr>\n",
       "    <tr>\n",
       "      <th>UniformEncoder(0.80)python</th>\n",
       "      <td>0.31</td>\n",
       "      <td>0.36</td>\n",
       "      <td>0.38</td>\n",
       "      <td>0.10</td>\n",
       "    </tr>\n",
       "    <tr>\n",
       "      <th>UniformEncoder(0.90)python</th>\n",
       "      <td>0.46</td>\n",
       "      <td>0.61</td>\n",
       "      <td>0.68</td>\n",
       "      <td>0.27</td>\n",
       "    </tr>\n",
       "  </tbody>\n",
       "</table>\n",
       "</div>"
      ],
      "text/plain": [
       "                            UniformEncoder(0.60)python  \\\n",
       "UniformEncoder(0.60)python                        0.09   \n",
       "UniformEncoder(0.70)python                        0.17   \n",
       "UniformEncoder(0.80)python                        0.31   \n",
       "UniformEncoder(0.90)python                        0.46   \n",
       "\n",
       "                            UniformEncoder(0.70)python  \\\n",
       "UniformEncoder(0.60)python                        0.14   \n",
       "UniformEncoder(0.70)python                        0.24   \n",
       "UniformEncoder(0.80)python                        0.36   \n",
       "UniformEncoder(0.90)python                        0.61   \n",
       "\n",
       "                            UniformEncoder(0.80)python  \\\n",
       "UniformEncoder(0.60)python                        0.09   \n",
       "UniformEncoder(0.70)python                        0.20   \n",
       "UniformEncoder(0.80)python                        0.38   \n",
       "UniformEncoder(0.90)python                        0.68   \n",
       "\n",
       "                            UniformEncoder(0.90)python  \n",
       "UniformEncoder(0.60)python                        0.00  \n",
       "UniformEncoder(0.70)python                        0.05  \n",
       "UniformEncoder(0.80)python                        0.10  \n",
       "UniformEncoder(0.90)python                        0.27  "
      ]
     },
     "execution_count": 11,
     "metadata": {},
     "output_type": "execute_result"
    }
   ],
   "source": [
    "visual_accuracy_table(loaded_models,full_dataset['python']['test'][:100], top5_accuracy)"
   ]
  },
  {
   "cell_type": "code",
   "execution_count": 29,
   "metadata": {
    "scrolled": true
   },
   "outputs": [
    {
     "data": {
      "text/html": [
       "<div>\n",
       "<style scoped>\n",
       "    .dataframe tbody tr th:only-of-type {\n",
       "        vertical-align: middle;\n",
       "    }\n",
       "\n",
       "    .dataframe tbody tr th {\n",
       "        vertical-align: top;\n",
       "    }\n",
       "\n",
       "    .dataframe thead th {\n",
       "        text-align: right;\n",
       "    }\n",
       "</style>\n",
       "<table border=\"1\" class=\"dataframe\">\n",
       "  <thead>\n",
       "    <tr style=\"text-align: right;\">\n",
       "      <th></th>\n",
       "      <th>UniformEncoder(0.60)python</th>\n",
       "      <th>UniformEncoder(0.70)python</th>\n",
       "      <th>UniformEncoder(0.80)python</th>\n",
       "      <th>UniformEncoder(0.90)python</th>\n",
       "    </tr>\n",
       "  </thead>\n",
       "  <tbody>\n",
       "    <tr>\n",
       "      <th>UniformEncoder(0.60)python</th>\n",
       "      <td>0.045816</td>\n",
       "      <td>0.111806</td>\n",
       "      <td>0.201131</td>\n",
       "      <td>0.174776</td>\n",
       "    </tr>\n",
       "    <tr>\n",
       "      <th>UniformEncoder(0.70)python</th>\n",
       "      <td>0.050422</td>\n",
       "      <td>0.130643</td>\n",
       "      <td>0.243309</td>\n",
       "      <td>0.201023</td>\n",
       "    </tr>\n",
       "    <tr>\n",
       "      <th>UniformEncoder(0.80)python</th>\n",
       "      <td>0.058382</td>\n",
       "      <td>0.153800</td>\n",
       "      <td>0.271334</td>\n",
       "      <td>0.238796</td>\n",
       "    </tr>\n",
       "    <tr>\n",
       "      <th>UniformEncoder(0.90)python</th>\n",
       "      <td>0.066304</td>\n",
       "      <td>0.176889</td>\n",
       "      <td>0.305808</td>\n",
       "      <td>0.257084</td>\n",
       "    </tr>\n",
       "  </tbody>\n",
       "</table>\n",
       "</div>"
      ],
      "text/plain": [
       "                            UniformEncoder(0.60)python  \\\n",
       "UniformEncoder(0.60)python                    0.045816   \n",
       "UniformEncoder(0.70)python                    0.050422   \n",
       "UniformEncoder(0.80)python                    0.058382   \n",
       "UniformEncoder(0.90)python                    0.066304   \n",
       "\n",
       "                            UniformEncoder(0.70)python  \\\n",
       "UniformEncoder(0.60)python                    0.111806   \n",
       "UniformEncoder(0.70)python                    0.130643   \n",
       "UniformEncoder(0.80)python                    0.153800   \n",
       "UniformEncoder(0.90)python                    0.176889   \n",
       "\n",
       "                            UniformEncoder(0.80)python  \\\n",
       "UniformEncoder(0.60)python                    0.201131   \n",
       "UniformEncoder(0.70)python                    0.243309   \n",
       "UniformEncoder(0.80)python                    0.271334   \n",
       "UniformEncoder(0.90)python                    0.305808   \n",
       "\n",
       "                            UniformEncoder(0.90)python  \n",
       "UniformEncoder(0.60)python                    0.174776  \n",
       "UniformEncoder(0.70)python                    0.201023  \n",
       "UniformEncoder(0.80)python                    0.238796  \n",
       "UniformEncoder(0.90)python                    0.257084  "
      ]
     },
     "execution_count": 29,
     "metadata": {},
     "output_type": "execute_result"
    }
   ],
   "source": [
    "visual_accuracy_table(loaded_models,full_dataset['python']['test'][:200], edit_accuracy)"
   ]
  },
  {
   "cell_type": "code",
   "execution_count": 23,
   "metadata": {},
   "outputs": [],
   "source": [
    "def best_example(model, dataset, k=1):\n",
    "    correct = list(filter(lambda x: x[0]==x[2],\n",
    "                          batched_decode_all(model, dataset)))\n",
    "    correct_with_fxn = [(c[1],c[0],len(c[0])-len(c[1])) for c in correct]\n",
    "    return sorted(correct_with_fxn, key=lambda x: -x[2])[:k]\n",
    "\n",
    "def worst_example(model, dataset, k=1):\n",
    "    incorrect = list(filter(lambda x: x[0]!=x[2],\n",
    "                          batched_decode_all(model, dataset)))\n",
    "    incorrect_with_fxn = [(c[1],c[0],c[2],len(c[0])-len(c[1])) for c in incorrect]\n",
    "    return sorted(incorrect_with_fxn, key=lambda x: -x[3])[:k]\n"
   ]
  },
  {
   "cell_type": "code",
   "execution_count": 25,
   "metadata": {},
   "outputs": [
    {
     "name": "stdout",
     "output_type": "stream",
     "text": [
      "('def_n_sef, fien paers)', 'def __init__(self, filename, parameters):', 19)\n",
      "('ifnt selfeqal_lstlfmtix[i]j, sel.bakroudColor)', 'if not self.equal_list(self.matrix[i][j], self.backgroundColor):', 18)\n",
      "(\"tart ulib2unquote(reqe.rg.get'str)\", \"start = urllib2.unquote(request.args.get('start'))\", 16)\n",
      "\n"
     ]
    }
   ],
   "source": [
    "for x in best_example(loaded_models[0], full_dataset['python']['test'][:10000], k=3): \n",
    "    print(x)\n",
    "print()\n",
    "#for x in worst_example(loaded_models[1], full_dataset['python']['test'][:1000], k=3): \n",
    "#    print(x)"
   ]
  }
 ],
 "metadata": {
  "kernelspec": {
   "display_name": "Python 3.5",
   "language": "python",
   "name": "python3"
  },
  "language_info": {
   "codemirror_mode": {
    "name": "ipython",
    "version": 3
   },
   "file_extension": ".py",
   "mimetype": "text/x-python",
   "name": "python",
   "nbconvert_exporter": "python",
   "pygments_lexer": "ipython3",
   "version": "3.5.6"
  }
 },
 "nbformat": 4,
 "nbformat_minor": 2
}
