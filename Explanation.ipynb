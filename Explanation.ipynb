{
 "cells": [
  {
   "cell_type": "markdown",
   "metadata": {},
   "source": [
    "# Inside-Out Code Auto-Completion"
   ]
  },
  {
   "cell_type": "markdown",
   "metadata": {},
   "source": [
    "## Project Description\n",
    "We would like to build an auto-complete engine that treats user-input as clues toward the full correct line of code, where these clues can be arbitrary parts of the target line. This is in contrast to the usual setting for auto-completion, where user input is given as the left-most part of the target line, and the system only guesses the right hand side of the line.\n",
    "\n",
    "We seek to train a standard seq-to-seq model to \"decode\" the correct line of a programming language given a compressed representation of that line. We use a bidirectional LSTM with attention, and use character embeddings to represent the input. \n",
    "\n",
    "First we import our decoder model and prepare our dataset of Python, Haskell, and Java lines from Github."
   ]
  },
  {
   "cell_type": "code",
   "execution_count": 1,
   "metadata": {},
   "outputs": [
    {
     "name": "stdout",
     "output_type": "stream",
     "text": [
      "602762 training examples, 80964 validation examples, 80789 test exampless\n",
      "616686 training examples, 82731 validation examples, 82543 test exampless\n",
      "565796 training examples, 77886 validation examples, 77884 test exampless\n"
     ]
    }
   ],
   "source": [
    "%matplotlib inline\n",
    "%load_ext autoreload\n",
    "%autoreload 2\n",
    "\n",
    "import json\n",
    "import baseline\n",
    "import numpy as np\n",
    "from baseline import *\n",
    "from decoder import *\n",
    "from alphabet import *\n",
    "from train import *\n",
    "import pandas\n",
    "import numpy as np\n",
    "import torch\n",
    "from matplotlib import pyplot as plt\n",
    "import collections\n",
    "\n",
    "def filter_ascii(strings):\n",
    "    'Returns only the strings that can be encoded in ASCII.'\n",
    "    l = []\n",
    "    for s in strings:\n",
    "        try:\n",
    "            s.encode('ascii')\n",
    "            if 10 <= len(s) <= 80:\n",
    "                l.append(s)\n",
    "        except UnicodeEncodeError:\n",
    "            pass\n",
    "\n",
    "    return list(set(l))\n",
    "\n",
    "def language_2_dataset(language='Python'):\n",
    "    with open('dataset/large.json') as f:\n",
    "        multilang_dataset = json.load(f)\n",
    "        dataset = multilang_dataset[language]\n",
    "\n",
    "        dataset['train'] = filter_ascii(dataset['train'])\n",
    "        dataset['dev'] = filter_ascii(dataset['dev'])\n",
    "        dataset['test'] = filter_ascii(dataset['test'])\n",
    "        print('{} training examples, {} validation examples, {} test exampless'.format(\n",
    "            len(dataset['train']), \n",
    "            len(dataset['dev']),\n",
    "            len(dataset['test'])))\n",
    "        return dataset\n",
    "    \n",
    "full_dataset = {\n",
    "    \"python\": language_2_dataset(\"Python\"),\n",
    "    \"haskell\": language_2_dataset(\"Haskell\"),\n",
    "    \"java\": language_2_dataset(\"Java\"),\n",
    "}\n",
    "python_dat = full_dataset[\"python\"]\n",
    "java_dat = full_dataset[\"java\"]\n",
    "haskell_dat = full_dataset[\"haskell\"]"
   ]
  },
  {
   "cell_type": "markdown",
   "metadata": {},
   "source": [
    "Now we have a choice of how to train our decoder -- since we have lines from Github, we can synthetically generate training data based off of guesses of how users might abbreviate their lines of code.\n",
    "\n",
    "A very basic way of compressing lines of code is to keep a table of keywords and common likely abbreviations of those keywords. Then we generate our training data by replacing keywords in our Github lines according to the table.\n",
    "\n",
    "Examples of rules that we use for Python are 'string' -> 'str', 'tuple' -> 'tup', 'reversed' -> 'rev', 'True' -> 'T', and 'False'-> 'F'. \n",
    "Below we have machinery to load models, and then we load a decoder model trained using rule-based encodings in Python."
   ]
  },
  {
   "cell_type": "code",
   "execution_count": 2,
   "metadata": {},
   "outputs": [],
   "source": [
    "def load_models(models, is_baseline=True, load_best=False):\n",
    "    def load_model(model):\n",
    "        device = torch.device(0) if torch.cuda.is_available() else torch.device('cpu')\n",
    "        encoder, alpha, dataset, lang_name = model\n",
    "\n",
    "        if load_best:\n",
    "            # Load the best model saved during training.\n",
    "            filename = \"trained_models/{}_best_\".format(encoder.name())\n",
    "            loss_history_filename = \"trained_models/best_model_{}\".format(encoder.name())\n",
    "        else:\n",
    "            # Load the final model.\n",
    "            filename = \"trained_models/{}_{}_{}\".format(encoder.name(), alpha, lang_name)\n",
    "            loss_history_filename = \"trained_models/{}_{}_{}.json\".format(encoder.name(), alpha, lang_name)\n",
    "\n",
    "        alphabet = AsciiEmbeddedEncoding(device)\n",
    "        decoder = AutoCompleteDecoderModel(alphabet, hidden_size=512, copy=None)    \n",
    "        decoder.load_state_dict(torch.load(filename + \"decoder.model\"))\n",
    "        alphabet.load_state_dict(torch.load(filename + \"alphabet.model\"))\n",
    "\n",
    "        decoder.to(device)\n",
    "        alphabet.to(device)\n",
    "\n",
    "        if not is_baseline:\n",
    "            encoder.load_state_dict(torch.load(filename + \"encoder.model\"))\n",
    "\n",
    "        with open(loss_history_filename) as f:\n",
    "            j = json.load(f)\n",
    "            loss_history = j[\"losses\"]\n",
    "\n",
    "        print('Model', model[0].name(), model[3], 'loaded!')\n",
    "        return (encoder, decoder, alphabet, lang_name, loss_history)\n",
    "    return [load_model(m) for m in models]"
   ]
  },
  {
   "cell_type": "code",
   "execution_count": 3,
   "metadata": {},
   "outputs": [
    {
     "name": "stdout",
     "output_type": "stream",
     "text": [
      "Model RulesBasedEncoderPython(whitespace=False) python loaded!\n"
     ]
    },
    {
     "data": {
      "image/png": "[encoded data removed]",
      "text/plain": [
       "<Figure size 432x288 with 1 Axes>"
      ]
     },
     "metadata": {
      "needs_background": "light"
     },
     "output_type": "display_data"
    }
   ],
   "source": [
    "models = [ (RulesBasedEncoder(), .0001, python_dat, 'python')]\n",
    "loaded_models = load_models(models)\n",
    "\n",
    "for (encoder, decoder, alphabet, lang, loss_history) in loaded_models:\n",
    "    plt.title('{} {} loss history'.format(encoder.name(), lang))\n",
    "    plt.xlabel('Iterations')\n",
    "    plt.ylabel('Loss')\n",
    "    plt.plot(loss_history)\n",
    "    plt.show()"
   ]
  },
  {
   "cell_type": "markdown",
   "metadata": {},
   "source": [
    "We can run the trained decoder on some examples."
   ]
  },
  {
   "cell_type": "code",
   "execution_count": 4,
   "metadata": {},
   "outputs": [
    {
     "name": "stdout",
     "output_type": "stream",
     "text": [
      "<baseline.RulesBasedEncoder object at 0x7fec03b38358> \n",
      " for i in range(10): \n",
      "\n",
      "<baseline.RulesBasedEncoder object at 0x7fec03b38358> \n",
      " for i in rg(10): \n",
      "\n"
     ]
    }
   ],
   "source": [
    "def run_models_on_string(string, models,beam=False):\n",
    "    for model in models:\n",
    "        (encoder, decoder, alphabet, language, _) = model\n",
    "        print(encoder, \"\\n\", decoder([string], alphabet)[0],\"\\n\") \n",
    "        if beam:\n",
    "            print(beam_search_predictions(decoder, string, alphabet, beam_size=2),\"\\n\")\n",
    "\n",
    "run_models_on_string(\"for i in rng(10):\", loaded_models)\n",
    "run_models_on_string(\"for i in rg(10):\", loaded_models)"
   ]
  },
  {
   "cell_type": "markdown",
   "metadata": {},
   "source": [
    "This works for the abbreviation 'rng', because it was explicitly in the translation list.\n",
    "But if the abbreviation is not on the list, the decoder struggles: clearly this is not going to scale.\n",
    "We want our model to be flexible with respect to the various encodings that a programmer might use.\n",
    "\n",
    "One way to ensure flexibility is to separately decide whether to drop each character with some fixed probability. "
   ]
  },
  {
   "cell_type": "code",
   "execution_count": 5,
   "metadata": {},
   "outputs": [
    {
     "name": "stdout",
     "output_type": "stream",
     "text": [
      "Model UniformEncoder(0.80) python loaded!\n"
     ]
    }
   ],
   "source": [
    "models = [\n",
    "    (UniformEncoder(removal_probability=.8),.0005, python_dat, 'python')\n",
    "]\n",
    "\n",
    "loaded_models = load_models(models)"
   ]
  },
  {
   "cell_type": "code",
   "execution_count": 6,
   "metadata": {},
   "outputs": [
    {
     "name": "stdout",
     "output_type": "stream",
     "text": [
      "<baseline.UniformEncoder object at 0x7fec03b38eb8> \n",
      " for i in range(10): \n",
      "\n"
     ]
    }
   ],
   "source": [
    "run_models_on_string(\"for i in rng(10):\", loaded_models)"
   ]
  },
  {
   "cell_type": "code",
   "execution_count": 7,
   "metadata": {},
   "outputs": [
    {
     "name": "stdout",
     "output_type": "stream",
     "text": [
      "<baseline.UniformEncoder object at 0x7fec03b38eb8> \n",
      " for i in range(10): \n",
      "\n"
     ]
    }
   ],
   "source": [
    "run_models_on_string(\"for i in rg(10):\", loaded_models)"
   ]
  },
  {
   "cell_type": "markdown",
   "metadata": {},
   "source": [
    "The uniform distribution encoding works to train a decoder which can solve both our original example and the perturbed one.\n",
    " \n",
    "But it seems like we are missing something in our model of human line compression. Certain characters are more likely to be dropped in accordance with how redundant they are semantically. One way of approximating this is to iteratively drop the most-common n-grams in the corpus. To keep the learning reasonable, we don't drop the first and last charaters of the n-gram."
   ]
  },
  {
   "cell_type": "code",
   "execution_count": 8,
   "metadata": {},
   "outputs": [
    {
     "name": "stdout",
     "output_type": "stream",
     "text": [
      "Model UniformEncoder(0.80) python loaded!\n",
      "Model FrequencyEncoder(5-gram, target_size:0.8) python loaded!\n"
     ]
    }
   ],
   "source": [
    "models = [\n",
    "   (UniformEncoder(removal_probability=.8),.0005, python_dat, 'python'),\n",
    "   (FrequencyEncoder(dataset=python_dat['train'], compression_rate=.8, n_gram=5), .0005, python_dat, 'python')    \n",
    "]\n",
    "\n",
    "loaded_models = load_models(models)"
   ]
  },
  {
   "cell_type": "code",
   "execution_count": 9,
   "metadata": {},
   "outputs": [
    {
     "name": "stdout",
     "output_type": "stream",
     "text": [
      "<baseline.UniformEncoder object at 0x7fec03b382e8> \n",
      " per._open(\"-v\", \"--version\", help=\"user a specific zc.bad out version\") \n",
      "\n",
      "<baseline.FrequencyEncoder object at 0x7fec03b38208> \n",
      " parser.add_option(\"-v\", \"--version\", help=\"use a specific zc.buildout version\") \n",
      "\n"
     ]
    }
   ],
   "source": [
    "run_models_on_string('per._opn(\"-v\", \"--vern\", help=\"use a specific zc.bdout vern\")', loaded_models, beam=False)"
   ]
  },
  {
   "cell_type": "markdown",
   "metadata": {},
   "source": [
    "The frequency-based decoder gets this example correct. The common 5-grams that were identified in the original string were 'parse', '.add_', 'ption', 'rsion', 'build', and 'rsion' again. The uniform case is working off of more local information and cannot reconstruct 'zc.buildout' from 'zc.bdout'.\n",
    "\n",
    "But if we look back at our range example, we find that the frequency-based encoding badly misbehaves:"
   ]
  },
  {
   "cell_type": "code",
   "execution_count": 12,
   "metadata": {},
   "outputs": [
    {
     "name": "stdout",
     "output_type": "stream",
     "text": [
      "<baseline.UniformEncoder object at 0x7fec03b382e8> \n",
      " for i in range(10): \n",
      "\n",
      "<baseline.FrequencyEncoder object at 0x7fec03b38208> \n",
      " for i in rng(10000): \n",
      "\n"
     ]
    }
   ],
   "source": [
    "run_models_on_string(\"for i in rng(10):\", loaded_models)"
   ]
  },
  {
   "cell_type": "markdown",
   "metadata": {},
   "source": [
    "The frequency-based decoder sees 10, and guesses that it really comes from the sequence 10000.\n",
    "Even worse, in the beam search the number is further expanded because it thinks that 00 comes from 00000. \n",
    "\n",
    "This could be due to the decoder learning that it needs to expand the input string, and will prefer longer explanations as a result.\n",
    "Frequency-based can sometimes build sophisticated translations using fairly non-local information; however, it tends to violate Occam's Razor."
   ]
  },
  {
   "cell_type": "markdown",
   "metadata": {},
   "source": [
    "How should we evaluate these models? Accuracies of models using their own encoding schemes are somewhat incomparable -- we also need to know which of the encoding schemes is closest to what programmers would actually type when using these autocompletion facilities.\n",
    "\n",
    "Maybe we can get more information by comparing how the decoders work using each others' encoders."
   ]
  },
  {
   "cell_type": "code",
   "execution_count": 16,
   "metadata": {
    "scrolled": true
   },
   "outputs": [
    {
     "name": "stdout",
     "output_type": "stream",
     "text": [
      "Model RulesBasedEncoderPython(whitespace=False) python loaded!\n",
      "Model UniformEncoder(0.80) python loaded!\n",
      "Model FrequencyEncoder(5-gram, target_size:0.8) python loaded!\n"
     ]
    }
   ],
   "source": [
    "models = [\n",
    "   (RulesBasedEncoder(), .0001, python_dat, 'python'),\n",
    "   (UniformEncoder(removal_probability=.8),.0005, python_dat, 'python'),\n",
    "   (FrequencyEncoder(dataset=python_dat['train'], compression_rate=.8, n_gram=5), .0005, python_dat, 'python')    \n",
    "]\n",
    "loaded_models = load_models(models)"
   ]
  },
  {
   "cell_type": "code",
   "execution_count": 17,
   "metadata": {},
   "outputs": [],
   "source": [
    "def top1_accuracy(encoder, decoder, alphabet, dataset):\n",
    "    return len(list(filter(lambda x:x[0]==x[1],\n",
    "                          zip(dataset, decoder(encoder.encode_batch(dataset),alphabet))))) / len(dataset)\n",
    "\n",
    "def models_to_name(m1,m2):\n",
    "    return str((m1[0].name()+m1[3], m2[0].name()+m2[3]))\n",
    "\n",
    "def models_to_accuracy(m1,m2,dataset,accuracy_metric):\n",
    "    (encoder, _, _, _, _), (_, decoder, alphabet, _, _) = m1, m2\n",
    "    return accuracy_metric(encoder, decoder, alphabet, dataset)\n",
    "\n",
    "def accuracy_table(models, dataset, accuracy_metric=top1_accuracy):\n",
    "    d = {}\n",
    "    for m1 in models:\n",
    "        for m2 in models:\n",
    "            d[models_to_name(m1,m2)] = \\\n",
    "                models_to_accuracy(m1,m2,dataset,accuracy_metric) \n",
    "    return d\n",
    "    \n",
    "def visual_accuracy_table(models, dataset, accuracy_metric=top1_accuracy):\n",
    "    return pandas.DataFrame(\n",
    "            np.array([[models_to_accuracy(m1,m2,dataset,accuracy_metric) for m2 in models]\n",
    "                      for m1 in models]), \n",
    "            columns = [m[0].name()+m[3] for m in models],\n",
    "            index = [m[0].name()+m[3] for m in models])\n",
    "\n"
   ]
  },
  {
   "cell_type": "code",
   "execution_count": 18,
   "metadata": {},
   "outputs": [
    {
     "data": {
      "text/html": [
       "<div>\n",
       "<style scoped>\n",
       "    .dataframe tbody tr th:only-of-type {\n",
       "        vertical-align: middle;\n",
       "    }\n",
       "\n",
       "    .dataframe tbody tr th {\n",
       "        vertical-align: top;\n",
       "    }\n",
       "\n",
       "    .dataframe thead th {\n",
       "        text-align: right;\n",
       "    }\n",
       "</style>\n",
       "<table border=\"1\" class=\"dataframe\">\n",
       "  <thead>\n",
       "    <tr style=\"text-align: right;\">\n",
       "      <th></th>\n",
       "      <th>RulesBasedEncoderPython(whitespace=False)python</th>\n",
       "      <th>UniformEncoder(0.80)python</th>\n",
       "      <th>FrequencyEncoder(5-gram, target_size:0.8)python</th>\n",
       "    </tr>\n",
       "  </thead>\n",
       "  <tbody>\n",
       "    <tr>\n",
       "      <th>RulesBasedEncoderPython(whitespace=False)python</th>\n",
       "      <td>0.97</td>\n",
       "      <td>0.59</td>\n",
       "      <td>0.19</td>\n",
       "    </tr>\n",
       "    <tr>\n",
       "      <th>UniformEncoder(0.80)python</th>\n",
       "      <td>0.00</td>\n",
       "      <td>0.21</td>\n",
       "      <td>0.01</td>\n",
       "    </tr>\n",
       "    <tr>\n",
       "      <th>FrequencyEncoder(5-gram, target_size:0.8)python</th>\n",
       "      <td>0.00</td>\n",
       "      <td>0.09</td>\n",
       "      <td>0.69</td>\n",
       "    </tr>\n",
       "  </tbody>\n",
       "</table>\n",
       "</div>"
      ],
      "text/plain": [
       "                                                 RulesBasedEncoderPython(whitespace=False)python  \\\n",
       "RulesBasedEncoderPython(whitespace=False)python                                             0.97   \n",
       "UniformEncoder(0.80)python                                                                  0.00   \n",
       "FrequencyEncoder(5-gram, target_size:0.8)python                                             0.00   \n",
       "\n",
       "                                                 UniformEncoder(0.80)python  \\\n",
       "RulesBasedEncoderPython(whitespace=False)python                        0.59   \n",
       "UniformEncoder(0.80)python                                             0.21   \n",
       "FrequencyEncoder(5-gram, target_size:0.8)python                        0.09   \n",
       "\n",
       "                                                 FrequencyEncoder(5-gram, target_size:0.8)python  \n",
       "RulesBasedEncoderPython(whitespace=False)python                                             0.19  \n",
       "UniformEncoder(0.80)python                                                                  0.01  \n",
       "FrequencyEncoder(5-gram, target_size:0.8)python                                             0.69  "
      ]
     },
     "execution_count": 18,
     "metadata": {},
     "output_type": "execute_result"
    }
   ],
   "source": [
    "#row labels correspond to the encoder, and column labels correspond to the decoder\n",
    "visual_accuracy_table(loaded_models,full_dataset['python']['test'][:100])"
   ]
  },
  {
   "cell_type": "markdown",
   "metadata": {},
   "source": [
    "Rule-based decodes its own encodings nearly perfectly, but cannot decode uniform or frequency -- it is overfitting to its own very simple encodings. We can see the simplicity of the rule-based encodings in the high uniform and frequency based decoding scores.\n",
    "\n",
    "The uniform decoder performs meagerly on its on encodings, but also performs non-negligibly on rule and frequency based encodings.\n",
    "\n",
    "Contrast this with the frequency decoder. It does well on itself and partially figures out rule-based, but it completely fails on uniform encodings. The frequency decoder is inflexible -- a small perterbation causes it to leave the regime where it can give confident predictions. This is because the frequency encoder is forced to only consider fixed deletions of n-grams in a fixed order, given by relative n-gram frequencies in the dataset.\n",
    "\n",
    "We can find a middle ground between the under and over fitting of uniform and frequency based encoders respectively by introducing noise into the frequency encoding:\n",
    "Each time an n-gram would be deleted instead flip a fair coin. If heads then continue normally, otherwise delete a random character. This allows the frequency encoder to generate greater variation during training, while not drowning out the benefits of preferentially deleting redundant characters."
   ]
  },
  {
   "cell_type": "code",
   "execution_count": 19,
   "metadata": {},
   "outputs": [
    {
     "name": "stdout",
     "output_type": "stream",
     "text": [
      "Model RulesBasedEncoderPython(whitespace=False) python loaded!\n",
      "Model UniformEncoder(0.80) python loaded!\n",
      "Model FrequencyEncoder(5-gram, target_size:0.8) python loaded!\n",
      "Model FuzzyFrequencyEncoder(5-gram, target_size:0.8) python loaded!\n"
     ]
    }
   ],
   "source": [
    "models = [\n",
    "   (RulesBasedEncoder(), .0001, python_dat, 'python'),\n",
    "   (UniformEncoder(removal_probability=.8),.0005, python_dat, 'python'),\n",
    "   (FrequencyEncoder(dataset=python_dat['train'], compression_rate=.8, n_gram=5), .0005, python_dat, 'python'),    \n",
    "   (FuzzyFrequencyEncoder(dataset=python_dat['train'], compression_rate=.8, n_gram=5), .0005, python_dat, 'python')\n",
    "]\n",
    "loaded_models = load_models(models)"
   ]
  },
  {
   "cell_type": "code",
   "execution_count": 20,
   "metadata": {},
   "outputs": [
    {
     "data": {
      "text/html": [
       "<div>\n",
       "<style scoped>\n",
       "    .dataframe tbody tr th:only-of-type {\n",
       "        vertical-align: middle;\n",
       "    }\n",
       "\n",
       "    .dataframe tbody tr th {\n",
       "        vertical-align: top;\n",
       "    }\n",
       "\n",
       "    .dataframe thead th {\n",
       "        text-align: right;\n",
       "    }\n",
       "</style>\n",
       "<table border=\"1\" class=\"dataframe\">\n",
       "  <thead>\n",
       "    <tr style=\"text-align: right;\">\n",
       "      <th></th>\n",
       "      <th>RulesBasedEncoderPython(whitespace=False)python</th>\n",
       "      <th>UniformEncoder(0.80)python</th>\n",
       "      <th>FrequencyEncoder(5-gram, target_size:0.8)python</th>\n",
       "      <th>FuzzyFrequencyEncoder(5-gram, target_size:0.8)python</th>\n",
       "    </tr>\n",
       "  </thead>\n",
       "  <tbody>\n",
       "    <tr>\n",
       "      <th>RulesBasedEncoderPython(whitespace=False)python</th>\n",
       "      <td>0.940</td>\n",
       "      <td>0.640</td>\n",
       "      <td>0.185</td>\n",
       "      <td>0.160</td>\n",
       "    </tr>\n",
       "    <tr>\n",
       "      <th>UniformEncoder(0.80)python</th>\n",
       "      <td>0.010</td>\n",
       "      <td>0.160</td>\n",
       "      <td>0.005</td>\n",
       "      <td>0.070</td>\n",
       "    </tr>\n",
       "    <tr>\n",
       "      <th>FrequencyEncoder(5-gram, target_size:0.8)python</th>\n",
       "      <td>0.005</td>\n",
       "      <td>0.080</td>\n",
       "      <td>0.645</td>\n",
       "      <td>0.035</td>\n",
       "    </tr>\n",
       "    <tr>\n",
       "      <th>FuzzyFrequencyEncoder(5-gram, target_size:0.8)python</th>\n",
       "      <td>0.000</td>\n",
       "      <td>0.015</td>\n",
       "      <td>0.000</td>\n",
       "      <td>0.230</td>\n",
       "    </tr>\n",
       "  </tbody>\n",
       "</table>\n",
       "</div>"
      ],
      "text/plain": [
       "                                                    RulesBasedEncoderPython(whitespace=False)python  \\\n",
       "RulesBasedEncoderPython(whitespace=False)python                                               0.940   \n",
       "UniformEncoder(0.80)python                                                                    0.010   \n",
       "FrequencyEncoder(5-gram, target_size:0.8)python                                               0.005   \n",
       "FuzzyFrequencyEncoder(5-gram, target_size:0.8)p...                                            0.000   \n",
       "\n",
       "                                                    UniformEncoder(0.80)python  \\\n",
       "RulesBasedEncoderPython(whitespace=False)python                          0.640   \n",
       "UniformEncoder(0.80)python                                               0.160   \n",
       "FrequencyEncoder(5-gram, target_size:0.8)python                          0.080   \n",
       "FuzzyFrequencyEncoder(5-gram, target_size:0.8)p...                       0.015   \n",
       "\n",
       "                                                    FrequencyEncoder(5-gram, target_size:0.8)python  \\\n",
       "RulesBasedEncoderPython(whitespace=False)python                                               0.185   \n",
       "UniformEncoder(0.80)python                                                                    0.005   \n",
       "FrequencyEncoder(5-gram, target_size:0.8)python                                               0.645   \n",
       "FuzzyFrequencyEncoder(5-gram, target_size:0.8)p...                                            0.000   \n",
       "\n",
       "                                                    FuzzyFrequencyEncoder(5-gram, target_size:0.8)python  \n",
       "RulesBasedEncoderPython(whitespace=False)python                                                 0.160     \n",
       "UniformEncoder(0.80)python                                                                      0.070     \n",
       "FrequencyEncoder(5-gram, target_size:0.8)python                                                 0.035     \n",
       "FuzzyFrequencyEncoder(5-gram, target_size:0.8)p...                                              0.230     "
      ]
     },
     "execution_count": 20,
     "metadata": {},
     "output_type": "execute_result"
    }
   ],
   "source": [
    "visual_accuracy_table(loaded_models,full_dataset['python']['test'][:200])"
   ]
  },
  {
   "cell_type": "markdown",
   "metadata": {},
   "source": [
    "Now we have a decoder that performs well enough on rules and uniform, but also performs better than uniform on its own encodings."
   ]
  },
  {
   "cell_type": "markdown",
   "metadata": {},
   "source": [
    "These metrics are helpful, but to really get a feel for the efficacies of these learned decoders we will need to see examples.  "
   ]
  },
  {
   "cell_type": "code",
   "execution_count": 21,
   "metadata": {},
   "outputs": [
    {
     "name": "stdout",
     "output_type": "stream",
     "text": [
      "<baseline.RulesBasedEncoder object at 0x7feb6a6b9b38> \n",
      " for i in range(10): \n",
      "\n",
      "['for i in range(10):', 'for i in range(10):]'] \n",
      "\n",
      "<baseline.UniformEncoder object at 0x7feb6a6b9b00> \n",
      " for i in range(10): \n",
      "\n",
      "['for i in range(10):', 'for i in range(100):'] \n",
      "\n",
      "<baseline.FrequencyEncoder object at 0x7feb6a6b9780> \n",
      " for i in rng(10): \n",
      "\n",
      "['for i in rng(10000):', 'for i in rng(10):'] \n",
      "\n",
      "<baseline.FuzzyFrequencyEncoder object at 0x7feb6a6b9748> \n",
      " for i in range(10): \n",
      "\n",
      "['for i in range(10):', 'for i in range(100):'] \n",
      "\n"
     ]
    }
   ],
   "source": [
    "run_models_on_string(\"for i in rng(10):\", loaded_models, beam=True)"
   ]
  },
  {
   "cell_type": "code",
   "execution_count": 24,
   "metadata": {},
   "outputs": [
    {
     "name": "stdout",
     "output_type": "stream",
     "text": [
      "<baseline.RulesBasedEncoder object at 0x7feb6a6b9b38> \n",
      " r i i r10): \n",
      "\n",
      "['r i i r10):', 'r i i  0):'] \n",
      "\n",
      "<baseline.UniformEncoder object at 0x7feb6a6b9b00> \n",
      " for i in r100000000000000000): \n",
      "\n",
      "['for i in r10):', 'for i in r1000000):'] \n",
      "\n",
      "<baseline.FrequencyEncoder object at 0x7feb6a6b9780> \n",
      " rul, i == r10): \n",
      "\n",
      "['rum, i in r10):', 'run, i in r10):'] \n",
      "\n",
      "<baseline.FuzzyFrequencyEncoder object at 0x7feb6a6b9748> \n",
      " for i in range(10): \n",
      "\n",
      "['for i in range(10):', 'for i in range(1,0):'] \n",
      "\n"
     ]
    }
   ],
   "source": [
    "run_models_on_string(\"r i i r10):\", loaded_models, beam=True)"
   ]
  },
  {
   "cell_type": "markdown",
   "metadata": {},
   "source": [
    "The decoders that do the right sort of thing in practice are uniform and fuzzy frequency, even though fuzzy frequency didn't come out amazingly well in the above accuracies. In the last example, the n-gram training helps FuzzyFrequencyEncoder recover the full word 'range' from just 'r'. \n",
    "The extra ability of uniform and fuzzy frequency will come out clearer when evaluating on whether the correct answer is in the top five predictions."
   ]
  },
  {
   "cell_type": "code",
   "execution_count": 18,
   "metadata": {},
   "outputs": [
    {
     "data": {
      "text/html": [
       "<div>\n",
       "<style scoped>\n",
       "    .dataframe tbody tr th:only-of-type {\n",
       "        vertical-align: middle;\n",
       "    }\n",
       "\n",
       "    .dataframe tbody tr th {\n",
       "        vertical-align: top;\n",
       "    }\n",
       "\n",
       "    .dataframe thead th {\n",
       "        text-align: right;\n",
       "    }\n",
       "</style>\n",
       "<table border=\"1\" class=\"dataframe\">\n",
       "  <thead>\n",
       "    <tr style=\"text-align: right;\">\n",
       "      <th></th>\n",
       "      <th>RulesBasedEncoderPython(whitespace=False)python</th>\n",
       "      <th>UniformEncoder(0.80)python</th>\n",
       "      <th>FrequencyEncoder(5-gram, target_size:0.8)python</th>\n",
       "      <th>FuzzyFrequencyEncoder(5-gram, target_size:0.8)python</th>\n",
       "    </tr>\n",
       "  </thead>\n",
       "  <tbody>\n",
       "    <tr>\n",
       "      <th>RulesBasedEncoderPython(whitespace=False)python</th>\n",
       "      <td>0.980</td>\n",
       "      <td>0.805</td>\n",
       "      <td>0.385</td>\n",
       "      <td>0.450</td>\n",
       "    </tr>\n",
       "    <tr>\n",
       "      <th>UniformEncoder(0.80)python</th>\n",
       "      <td>0.015</td>\n",
       "      <td>0.340</td>\n",
       "      <td>0.010</td>\n",
       "      <td>0.250</td>\n",
       "    </tr>\n",
       "    <tr>\n",
       "      <th>FrequencyEncoder(5-gram, target_size:0.8)python</th>\n",
       "      <td>0.005</td>\n",
       "      <td>0.270</td>\n",
       "      <td>0.765</td>\n",
       "      <td>0.115</td>\n",
       "    </tr>\n",
       "    <tr>\n",
       "      <th>FuzzyFrequencyEncoder(5-gram, target_size:0.8)python</th>\n",
       "      <td>0.000</td>\n",
       "      <td>0.060</td>\n",
       "      <td>0.000</td>\n",
       "      <td>0.410</td>\n",
       "    </tr>\n",
       "  </tbody>\n",
       "</table>\n",
       "</div>"
      ],
      "text/plain": [
       "                                                    RulesBasedEncoderPython(whitespace=False)python  \\\n",
       "RulesBasedEncoderPython(whitespace=False)python                                               0.980   \n",
       "UniformEncoder(0.80)python                                                                    0.015   \n",
       "FrequencyEncoder(5-gram, target_size:0.8)python                                               0.005   \n",
       "FuzzyFrequencyEncoder(5-gram, target_size:0.8)p...                                            0.000   \n",
       "\n",
       "                                                    UniformEncoder(0.80)python  \\\n",
       "RulesBasedEncoderPython(whitespace=False)python                          0.805   \n",
       "UniformEncoder(0.80)python                                               0.340   \n",
       "FrequencyEncoder(5-gram, target_size:0.8)python                          0.270   \n",
       "FuzzyFrequencyEncoder(5-gram, target_size:0.8)p...                       0.060   \n",
       "\n",
       "                                                    FrequencyEncoder(5-gram, target_size:0.8)python  \\\n",
       "RulesBasedEncoderPython(whitespace=False)python                                               0.385   \n",
       "UniformEncoder(0.80)python                                                                    0.010   \n",
       "FrequencyEncoder(5-gram, target_size:0.8)python                                               0.765   \n",
       "FuzzyFrequencyEncoder(5-gram, target_size:0.8)p...                                            0.000   \n",
       "\n",
       "                                                    FuzzyFrequencyEncoder(5-gram, target_size:0.8)python  \n",
       "RulesBasedEncoderPython(whitespace=False)python                                                 0.450     \n",
       "UniformEncoder(0.80)python                                                                      0.250     \n",
       "FrequencyEncoder(5-gram, target_size:0.8)python                                                 0.115     \n",
       "FuzzyFrequencyEncoder(5-gram, target_size:0.8)p...                                              0.410     "
      ]
     },
     "execution_count": 18,
     "metadata": {},
     "output_type": "execute_result"
    }
   ],
   "source": [
    "def top5_accuracy(encoder, decoder, alphabet, dataset):\n",
    "    count = 0\n",
    "    for string in dataset:\n",
    "        compressed = encoder.encode(string)\n",
    "        best_five = beam_search_predictions(decoder, compressed, alphabet, beam_size=5)\n",
    "        if string in best_five: count += 1\n",
    "    return float(count) / len(dataset)\n",
    "\n",
    "visual_accuracy_table(loaded_models,full_dataset['python']['test'][:200],top5_accuracy)"
   ]
  },
  {
   "cell_type": "markdown",
   "metadata": {},
   "source": [
    "Indeed, fuzzy frequency has a wider support in the top 5 accuracy model, and edges out uniform in self-accuracy. But if anything this chart further affirms the accuracy of the plain old uniform encoder."
   ]
  },
  {
   "cell_type": "markdown",
   "metadata": {},
   "source": [
    "-- Put in a section here if the scheduled uniform or .6 uniform does well --"
   ]
  },
  {
   "cell_type": "markdown",
   "metadata": {},
   "source": [
    "Let's finish off by showing the uniform and fuzzy frequency decoders at their best and worst."
   ]
  },
  {
   "cell_type": "code",
   "execution_count": 19,
   "metadata": {},
   "outputs": [
    {
     "name": "stdout",
     "output_type": "stream",
     "text": [
      "Model UniformEncoder(0.80) python loaded!\n",
      "Model FuzzyFrequencyEncoder(5-gram, target_size:0.8) python loaded!\n"
     ]
    }
   ],
   "source": [
    "models = [\n",
    "   (UniformEncoder(removal_probability=.8),.0005, python_dat, 'python'),\n",
    "   (FuzzyFrequencyEncoder(dataset=python_dat['train'], compression_rate=.8, n_gram=5), .0005, python_dat, 'python')\n",
    "]\n",
    "loaded_models = load_models(models)"
   ]
  },
  {
   "cell_type": "code",
   "execution_count": 20,
   "metadata": {},
   "outputs": [],
   "source": [
    "BATCH_SIZE = 128\n",
    "\n",
    "def reset_seeds():\n",
    "    # Set seed before computing accuracy to make the encoders deterministic.\n",
    "    np.random.seed(224)\n",
    "    random.seed(224)\n",
    "    torch.manual_seed(224)\n",
    "    \n",
    "def batched_decode_all(model, dataset):\n",
    "    reset_seeds()\n",
    "    (encoder, decoder, alphabet, _, _) = model\n",
    "    encoded_strings = [encoder.encode(s) for s in dataset]\n",
    "    decoded = []    \n",
    "    for i in range((len(dataset) + BATCH_SIZE - 1) // BATCH_SIZE):\n",
    "        decoded.extend(decoder(encoded_strings[i*BATCH_SIZE:(i+1)*BATCH_SIZE], alphabet))\n",
    "    return list(zip(dataset, encoded_strings, decoded))\n",
    "\n",
    "def best_example(model, dataset, k=1):\n",
    "    correct = list(filter(lambda x: x[0]==x[2],\n",
    "                          batched_decode_all(model, dataset)))\n",
    "    correct_with_fxn = [(c[1],c[2],len(c[0])-len(c[1])) for c in correct]\n",
    "    return sorted(correct_with_fxn, key=lambda x: -x[2])[:k]\n",
    "\n",
    "def worst_example(model, dataset, k=1):\n",
    "    incorrect = list(filter(lambda x: x[0]!=x[2],\n",
    "                          batched_decode_all(model, dataset)))\n",
    "    incorrect_with_fxn = [(c[0],c[1],c[2],len(c[0])-len(c[1])) for c in incorrect]\n",
    "    return sorted(incorrect_with_fxn, key=lambda x: x[3])[:k]"
   ]
  },
  {
   "cell_type": "code",
   "execution_count": 21,
   "metadata": {},
   "outputs": [
    {
     "name": "stdout",
     "output_type": "stream",
     "text": [
      "('BASEPTH = o.ath.dirnamo.patabpath__fil_))', 'BASE_PATH = os.path.dirname(os.path.abspath(__file__))', 13) \n",
      "\n",
      "('tod_ = smm.tod', 'tod_ = smm.tod', 'todo_ = smm.todo', 0)\n"
     ]
    }
   ],
   "source": [
    "unif8 = loaded_models[0]\n",
    "# prints (encoded, decoded, difference in length between original and compressed)\n",
    "print(best_example(unif8, full_dataset['python']['test'][:1000])[0],\"\\n\")\n",
    "# prints (original, encoded, decoded, different in length between original and compressed)\n",
    "print(worst_example(unif8, full_dataset['python']['test'][:1000])[0])"
   ]
  },
  {
   "cell_type": "code",
   "execution_count": 22,
   "metadata": {},
   "outputs": [
    {
     "name": "stdout",
     "output_type": "stream",
     "text": [
      "(\"fotcreator = os.os.pth.dirnme(___), '..', fontcreator.py')\", \"fontcreator = os.path.join(os.path.dirname(__file__), '..', 'fontcreator.py')\", 19) \n",
      "\n",
      "('coord = []', 'ood = []', 'ood_list = []', 2)\n"
     ]
    }
   ],
   "source": [
    "ffreq8 = loaded_models[1]\n",
    "# prints (encoded, decoded, difference in length between original and compressed)\n",
    "print(best_example(ffreq8, full_dataset['python']['test'][:1000])[0],\"\\n\")\n",
    "# prints (original, encoded, decoded, different in length between original and compressed)\n",
    "print(worst_example(ffreq8, full_dataset['python']['test'][:1000])[0])"
   ]
  },
  {
   "cell_type": "markdown",
   "metadata": {},
   "source": [
    "A final note -- if I was using this project for autocompletion in the wild, I would use either fuzzy frequency 0.8 or uniform 0.7. I did not bring up uniform 0.7 during the explanation because it performs slightly worse than 0.8 on our metrics.\n",
    "\n",
    "However, when looking at the output, it is able to get common-sense answers more of the time, and it is clear that it has to learn more of a language model in order to autocomplete with so many characters missing. Top 1 and top 5 accuracies are still missing an important piece of the evaluation for this project. We also considered a way to measure distance from desired string and use that as a metric, but we do not think this will give more clarity into the quality of encoder/decoder pairs.\n",
    "\n",
    "We might be able to quantify the performance of fuzzy frequency 0.8 and uniform 0.7 by using a language model on the translations, but this seems out of scope for our current effort. \n",
    "\n",
    "We also tried uniform 0.6 and a uniform curriculum where we decrease the probability of keeping characters during training. These led to some reasonable but not outstanding translations. I think it would be difficult to do much better than uniform 0.7 and fuzzy frequency 0.8 for translation through further ad-hoc methods. I would not be surprised if successfully learning the encoder and decoder simultaneously would lead to significantly better performance."
   ]
  }
 ],
 "metadata": {
  "kernelspec": {
   "display_name": "Python 3.5",
   "language": "python",
   "name": "python3"
  },
  "language_info": {
   "codemirror_mode": {
    "name": "ipython",
    "version": 3
   },
   "file_extension": ".py",
   "mimetype": "text/x-python",
   "name": "python",
   "nbconvert_exporter": "python",
   "pygments_lexer": "ipython3",
   "version": "3.5.6"
  }
 },
 "nbformat": 4,
 "nbformat_minor": 2
}
